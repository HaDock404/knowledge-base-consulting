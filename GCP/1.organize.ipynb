{
 "cells": [
  {
   "cell_type": "markdown",
   "metadata": {},
   "source": [
    "### Arborescence et structuration"
   ]
  },
  {
   "cell_type": "markdown",
   "metadata": {},
   "source": [
    "gs://erwin-labs-raw-data/  \n",
    "-> nom_du_site/  \n",
    "--> année/mois/jour/  \n",
    "--> data.json"
   ]
  },
  {
   "cell_type": "markdown",
   "metadata": {},
   "source": [
    "```bash\n",
    "gs://erwin-labs-raw-data/lemonde/2025/02/18/data.json\n",
    "gs://erwin-labs-raw-data/bbc/2025/02/18/data.json\n",
    "gs://erwin-labs-raw-data/nytimes/2025/02/18/data.json\n",
    "```"
   ]
  }
 ],
 "metadata": {
  "language_info": {
   "name": "python"
  }
 },
 "nbformat": 4,
 "nbformat_minor": 2
}
