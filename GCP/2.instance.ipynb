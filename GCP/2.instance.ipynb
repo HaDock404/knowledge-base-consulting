{
 "cells": [
  {
   "cell_type": "markdown",
   "metadata": {},
   "source": [
    "### Vérifier que gcloud est installé et authentifié"
   ]
  },
  {
   "cell_type": "markdown",
   "metadata": {},
   "source": [
    "```bash\n",
    "gcloud auth list\n",
    "gcloud config list project\n",
    "```"
   ]
  },
  {
   "cell_type": "markdown",
   "metadata": {},
   "source": [
    "### Activer le service Compute Engine (si ce n’est pas déjà fait)"
   ]
  },
  {
   "cell_type": "markdown",
   "metadata": {},
   "source": [
    "```bash\n",
    "gcloud services enable compute.googleapis.com\n",
    "```"
   ]
  },
  {
   "cell_type": "markdown",
   "metadata": {},
   "source": [
    "### Créer une instance VM"
   ]
  },
  {
   "cell_type": "markdown",
   "metadata": {},
   "source": [
    "```bash\n",
    "gcloud compute instances create nom-de-ton-instance \\\n",
    "    --zone=europe-west1-b \\\n",
    "    --machine-type=e2-medium \\\n",
    "    --image-project=debian-cloud \\\n",
    "    --image-family=debian-11 \\\n",
    "    --boot-disk-size=20GB\n",
    "\n",
    "```"
   ]
  },
  {
   "cell_type": "markdown",
   "metadata": {},
   "source": [
    "#### Explication des options :\n",
    "\n",
    "- ```--zone=europe-west1-b``` → Change selon ta région  \n",
    "- ```--machine-type=e2-medium``` → Modifiable selon tes besoins (ex: n1-standard-1, e2-micro)  \n",
    "- ```--image-project=debian-cloud``` & ```--image-family=debian-11``` → Utilise Debian 11 comme OS  \n",
    "- ```--boot-disk-size=20GB``` → Disque de 20 Go  "
   ]
  },
  {
   "cell_type": "markdown",
   "metadata": {},
   "source": [
    "### Vérifier que l'instance a bien été créée\n",
    "\n",
    "```bash\n",
    "gcloud compute instances list\n",
    "```"
   ]
  },
  {
   "cell_type": "markdown",
   "metadata": {},
   "source": [
    "### Se connecter à l’instance via SSH\n",
    "\n",
    "- Si c'est la première fois, gcloud générera automatiquement une clé SSH\n",
    "\n",
    "```bash\n",
    "gcloud compute ssh nom-de-ton-instance --zone=europe-west1-b\n",
    "```"
   ]
  },
  {
   "cell_type": "markdown",
   "metadata": {},
   "source": [
    "### Arrêter l'instance\n",
    "\n",
    "```bash\n",
    "gcloud compute instances stop nom-de-ton-instance --zone=europe-west1-b\n",
    "```\n"
   ]
  },
  {
   "cell_type": "markdown",
   "metadata": {},
   "source": [
    "### Supprimer l'instance\n",
    "\n",
    "```bash\n",
    "gcloud compute instances delete nom-de-ton-instance --zone=europe-west1-b\n",
    "```"
   ]
  },
  {
   "cell_type": "markdown",
   "metadata": {},
   "source": []
  }
 ],
 "metadata": {
  "language_info": {
   "name": "python"
  }
 },
 "nbformat": 4,
 "nbformat_minor": 2
}
