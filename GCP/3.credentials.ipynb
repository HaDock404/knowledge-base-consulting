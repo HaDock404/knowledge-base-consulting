{
 "cells": [
  {
   "cell_type": "markdown",
   "metadata": {},
   "source": [
    "## Il est important d'activer les autorisations pour stocker ou appeler les données dans les différents buckets"
   ]
  },
  {
   "cell_type": "markdown",
   "metadata": {},
   "source": [
    "On commence par vérifier si on à des GOOGLE_APPLICATION_CREDENTIALS avec la commande :\n",
    "\n",
    "```bash\n",
    "echo $GOOGLE_APPLICATION_CREDENTIALS\n",
    "```\n"
   ]
  },
  {
   "cell_type": "markdown",
   "metadata": {},
   "source": [
    "Si cela ne renvoie rien ou un chemin incorrect, alors définis la variable à nouveau :\n",
    "\n",
    "```bash\n",
    "export GOOGLE_APPLICATION_CREDENTIALS=\"/chemin/vers/ton-fichier.json\"\n",
    "```"
   ]
  },
  {
   "cell_type": "markdown",
   "metadata": {},
   "source": [
    "Pour obtenir un ```GOOGLE_APPLICATION_CREDENTIALS``` il suffit de se rendre dans le projet GCP et d'aller dans les ```IAM et administration```puis dans ```Compte de Service```. De créer un compte de service ou d'en utiliser un existant et de récupérer la clef et de faire la commande :"
   ]
  },
  {
   "cell_type": "markdown",
   "metadata": {},
   "source": [
    "```bash\n",
    "export GOOGLE_APPLICATION_CREDENTIALS=\"/chemin/vers/votre-cle.json\"\n",
    "```"
   ]
  },
  {
   "cell_type": "markdown",
   "metadata": {},
   "source": [
    "Il faut ensuite donner les autorisations au compte de service pour le bucket en question :\n",
    "```bash\n",
    "gcloud storage buckets add-iam-policy-binding gs://werner-archive \\\n",
    "    --member=\"serviceAccount:werner-storage@werner-staging.iam.gserviceaccount.com\" \\\n",
    "    --role=\"roles/storage.admin\" \\\n",
    "    --project=werner-staging\n",
    "```"
   ]
  },
  {
   "cell_type": "markdown",
   "metadata": {},
   "source": [
    "- gs://```nomDuBucket```\n",
    "- \"serviceAccount:```CompteDeService```@```nomProjet```.iam.gserviceaccount.com\"\n",
    "- role/storage.```Role```\n",
    "- project=```nomProjet```"
   ]
  },
  {
   "cell_type": "markdown",
   "metadata": {},
   "source": [
    "Avec comme ```Rôle``` disponible :\n",
    "\n",
    "- roles/storage.admin : Administrateur complet de Cloud Storage. Peut tout faire sur les buckets et les objets.\n",
    "- roles/storage.objectCreator : Autorise la création d'objets, mais pas la visualisation, la suppression ou la modification.\n",
    "- roles/storage.objectUser : Autorise la création, la visualisation, la liste, la mise à jour et la suppression d'objets.\n",
    "\n",
    "- roles/storage.legacyBucketReader : Lecture seule des métadonnées du bucket (anciennes ACL).\n",
    "- roles/storage.legacyBucketWriter : Lecture/écriture des métadonnées du bucket (anciennes ACL).\n",
    "- roles/storage.legacyObjectReader : Lecture seule des objets (anciennes ACL).\n",
    "- roles/storage.legacyObjectWriter : Lecture/écriture des objets (anciennes ACL).\n",
    "- roles/storage.objectAdmin : Contrôle total des objets, mais pas des métadonnées du bucket.\n",
    "- roles/storage.objectViewer : Lecture seule des objets et de leurs métadonnées."
   ]
  },
  {
   "cell_type": "markdown",
   "metadata": {},
   "source": []
  }
 ],
 "metadata": {
  "language_info": {
   "name": "python"
  }
 },
 "nbformat": 4,
 "nbformat_minor": 2
}
