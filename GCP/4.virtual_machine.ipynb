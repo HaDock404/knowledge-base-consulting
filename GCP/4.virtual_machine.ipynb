{
 "cells": [
  {
   "cell_type": "markdown",
   "id": "53b3be8e",
   "metadata": {
    "vscode": {
     "languageId": "plaintext"
    }
   },
   "source": [
    "## Création de la machine virtuelle"
   ]
  },
  {
   "cell_type": "markdown",
   "id": "e1188cde",
   "metadata": {},
   "source": [
    "```bash\n",
    "gcloud compute instances create test-vm \\\n",
    "    --machine-type=e2-medium \\\n",
    "    --image-project=debian-cloud \\\n",
    "    --image-family=debian-11 \\\n",
    "    --zone=europe-west9-b \\\n",
    "    --boot-disk-size=20GB \\\n",
    "    --metadata=startup-script='#! /bin/bash\n",
    "      sudo apt update -y && sudo apt install -y python3 python3-pip'\n",
    "```"
   ]
  },
  {
   "cell_type": "markdown",
   "id": "0d03317e",
   "metadata": {},
   "source": [
    "### Connexion à la machine \n",
    "\n",
    "```bash\n",
    "gcloud compute ssh test-vm --zone=europe-west1-b\n",
    "```\n"
   ]
  },
  {
   "cell_type": "markdown",
   "id": "0a7d4bce",
   "metadata": {},
   "source": [
    "Entrer une mot de passe pour créer une clef d'identification"
   ]
  },
  {
   "cell_type": "markdown",
   "id": "9caf7089",
   "metadata": {},
   "source": [
    "### Installer git \n",
    "\n",
    "```bash\n",
    "sudo apt install git\n",
    "```"
   ]
  },
  {
   "cell_type": "markdown",
   "id": "52a2b88e",
   "metadata": {
    "vscode": {
     "languageId": "plaintext"
    }
   },
   "source": [
    "```bash\n",
    "git clone nom du repo\n",
    "```"
   ]
  },
  {
   "cell_type": "markdown",
   "id": "68bcc8e1",
   "metadata": {},
   "source": [
    "### Utiliser un token pour s'identifier sur GitHub\n",
    "\n",
    "1. Connectez-vous à votre compte GitHub sur le site web.\n",
    "2. Cliquez sur votre photo de profil en haut à droite, puis sur \"Settings\".\n",
    "3. Dans la barre latérale de gauche, cliquez sur \"Developer settings\".\n",
    "4. Cliquez sur \"Personal access tokens\" puis sur \"Tokens (classic)\".\n",
    "5. Cliquez sur le bouton \"Generate new token\" (ou \"Generate new token (classic)\").\n",
    "6. Donnez une description à votre token (par exemple, \"GCP VM Access\").\n",
    "7. Sélectionnez les scopes (permissions) nécessaires. Pour git clone, vous aurez probablement besoin du scope repo (cocher la case \"repo\" accorde un accès complet aux dépôts privés et publics). Soyez aussi restrictif que possible avec les scopes pour des raisons de sécurité.\n",
    "8. Cliquez sur le bouton \"Generate token\" en bas de la page.\n",
    "9. Copiez le token généré et conservez-le dans un endroit sûr. Vous ne pourrez plus le voir une fois que vous aurez quitté cette page.\n",
    "\n",
    "\n",
    "Utiliser le token à la place de votre mot de passe."
   ]
  },
  {
   "cell_type": "markdown",
   "id": "02e64983",
   "metadata": {},
   "source": [
    "```bash\n",
    "pip install -r requirements.txt\n",
    "```"
   ]
  },
  {
   "cell_type": "markdown",
   "id": "945dc9b0",
   "metadata": {},
   "source": [
    "Créer session \n",
    "\n",
    "`screen -S nom_de_la_session`\n",
    "\n",
    "Détacher la session\n",
    "\n",
    "`Cmd + a puis Cmd + d`\n",
    "\n",
    "Lister les sessions\n",
    "\n",
    "`screen -ls`\n",
    "\n",
    "Rejoindre une session\n",
    "\n",
    "`screen -r nom_de_la_session`\n",
    "\n",
    "Quitter une session\n",
    "\n",
    "`exit`"
   ]
  },
  {
   "cell_type": "markdown",
   "id": "5652187a",
   "metadata": {},
   "source": [
    "### Copier des éléments dans la machine virtuelle\n",
    "\n",
    "```bash\n",
    "gcloud compute scp mon_script.py test-vm:~/ --zone=europe-west9-b\n",
    "```"
   ]
  },
  {
   "cell_type": "markdown",
   "id": "de0e0f0e",
   "metadata": {},
   "source": [
    "### Suppression de l'instance \n",
    "\n",
    "```bash\n",
    "gcloud compute instances delete test-vm --zone=europe-west9-b\n",
    "```"
   ]
  },
  {
   "cell_type": "markdown",
   "id": "93d9a114",
   "metadata": {},
   "source": [
    "### installation GCP sur la machine virtuelle\n",
    "\n",
    "```bash\n",
    "curl https://sdk.cloud.google.com | bash\n",
    "exec -l $SHELL\n",
    "gcloud init\n",
    "```"
   ]
  },
  {
   "cell_type": "markdown",
   "id": "fcf4476a",
   "metadata": {},
   "source": []
  }
 ],
 "metadata": {
  "language_info": {
   "name": "python"
  }
 },
 "nbformat": 4,
 "nbformat_minor": 5
}
