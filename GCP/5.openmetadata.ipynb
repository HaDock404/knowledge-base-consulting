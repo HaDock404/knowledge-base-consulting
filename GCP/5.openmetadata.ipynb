{
 "cells": [
  {
   "cell_type": "markdown",
   "id": "de82e8e6",
   "metadata": {},
   "source": [
    "```bash\n",
    "gcloud compute instances create openmetadata \\\n",
    "--zone=europe-west9-b \\\n",
    "--machine-type=e2-medium \\\n",
    "--image-family=debian-11 \\\n",
    "--image-project=debian-cloud \\\n",
    "--boot-disk-size=50GB \\\n",
    "--scopes=https://www.googleapis.com/auth/cloud-platform \\\n",
    "--service-account=1034929772164-compute@developer.gserviceaccount.com\n",
    "```"
   ]
  },
  {
   "cell_type": "markdown",
   "id": "6a78b459",
   "metadata": {
    "vscode": {
     "languageId": "plaintext"
    }
   },
   "source": [
    "```bash\n",
    "sudo apt update\n",
    "sudo apt install apt-transport-https ca-certificates curl gnupg lsb-release\n",
    "sudo mkdir -p /etc/apt/keyrings\n",
    "curl -fsSL https://download.docker.com/linux/debian/gpg | sudo gpg --dearmor -o /etc/apt/keyrings/docker.gpg\n",
    "echo \"deb [arch=$(dpkg --print-architecture) signed-by=/etc/apt/keyrings/docker.gpg] https://download.docker.com/linux/debian $(lsb_release -cs) stable\" | sudo tee /etc/apt/sources.list.d/docker.list > /dev/null\n",
    "sudo apt update\n",
    "sudo apt install docker-ce docker-ce-cli containerd.io docker-compose-plugin\n",
    "docker --version\n",
    "sudo usermod -aG docker $USER\n",
    "```"
   ]
  },
  {
   "cell_type": "markdown",
   "id": "e75d3e4b",
   "metadata": {},
   "source": [
    "```bash\n",
    "mkdir openmetadata-docker && cd openmetadata-docker\n",
    "```"
   ]
  },
  {
   "cell_type": "markdown",
   "id": "76fbca51",
   "metadata": {},
   "source": [
    "```bash\n",
    "curl -sL -o docker-compose.yml https://github.com/open-metadata/OpenMetadata/releases/download/1.6.8-release/docker-compose.yml\n",
    "\n",
    "curl -sL -o docker-compose-postgres.yml https://github.com/open-metadata/OpenMetadata/releases/download/1.6.8-release/docker-compose-postgres.yml\n",
    "```"
   ]
  },
  {
   "cell_type": "markdown",
   "id": "a31d2085",
   "metadata": {},
   "source": [
    "```bash\n",
    "wget https://github.com/open-metadata/OpenMetadata/releases/download/1.6.8-release/docker-compose.yml\n",
    "\n",
    "wget https://github.com/open-metadata/OpenMetadata/releases/download/1.6.8-release/docker-compose-postgres.yml\n",
    "```"
   ]
  },
  {
   "cell_type": "markdown",
   "id": "cfc2e6e5",
   "metadata": {},
   "source": [
    "```bash\n",
    "docker compose -f docker-compose.yml up --detach\n",
    "```"
   ]
  },
  {
   "cell_type": "markdown",
   "id": "c9214830",
   "metadata": {
    "vscode": {
     "languageId": "plaintext"
    }
   },
   "source": [
    "## Crée une règle de pare-feu pour ouvrir le port 8585 :"
   ]
  },
  {
   "cell_type": "markdown",
   "id": "dc0da826",
   "metadata": {},
   "source": [
    "```bash\n",
    "gcloud compute firewall-rules create allow-openmetadata \\\n",
    "  --allow=tcp:8585 \\\n",
    "  --source-ranges=0.0.0.0/0 \\\n",
    "  --target-tags=openmetadata-server \\\n",
    "  --description=\"Allow external access to OpenMetadata port 8585\"\n",
    "```"
   ]
  },
  {
   "cell_type": "markdown",
   "id": "a1072052",
   "metadata": {
    "vscode": {
     "languageId": "plaintext"
    }
   },
   "source": [
    "```bash\n",
    "gcloud compute instances add-tags NOM_INSTANCE \\\n",
    "  --tags=openmetadata-server\n",
    "```"
   ]
  },
  {
   "cell_type": "markdown",
   "id": "ea67217c",
   "metadata": {},
   "source": [
    "http://<adresse_ip_publique>:8585"
   ]
  },
  {
   "cell_type": "markdown",
   "id": "14d69355",
   "metadata": {},
   "source": [
    "## Trouver le mot de passe de la DB"
   ]
  },
  {
   "cell_type": "markdown",
   "id": "4db5647c",
   "metadata": {},
   "source": [
    "```bash\n",
    "grep -r \"MYSQL_ROOT_PASSWORD\" .\n",
    "```"
   ]
  },
  {
   "cell_type": "markdown",
   "id": "830ccebe",
   "metadata": {},
   "source": [
    "## Trouver le nom du conteneur MySQL \n",
    "\n",
    "```bash\n",
    "docker ps\n",
    "```\n",
    "> openmetadata_mysql"
   ]
  },
  {
   "cell_type": "markdown",
   "id": "ea52759f",
   "metadata": {},
   "source": [
    "## Création du programme de push du fichier de persistance des données\n",
    "\n",
    "```bash\n",
    "touch backup_openmetadata.sh\n",
    "vim backup_openmetadata.sh\n",
    "```"
   ]
  },
  {
   "cell_type": "markdown",
   "id": "b3105ca4",
   "metadata": {},
   "source": [
    "```shell\n",
    "#!/bin/bash\n",
    "\n",
    "# Infos base de données\n",
    "DB_NAME=\"openmetadata_db\"\n",
    "DB_USER=\"root\"\n",
    "DB_PASSWORD=\"password\"\n",
    "DATE=$(date +\"%Y%m%d_%H%M\")\n",
    "BACKUP_NAME=\"openmetadata_${DATE}.sql\"\n",
    "LOCAL_PATH=\"$HOME/openmetadata_backups\"\n",
    "GCS_BUCKET=\"gs://werner-openmetadata\"\n",
    "DOCKER_CONTAINER_NAME=\"openmetadata_mysql\"\n",
    "\n",
    "# Créer dossier local si besoin\n",
    "mkdir -p \"$LOCAL_PATH\"\n",
    "\n",
    "# Dump dans le conteneur et envoie dans un fichier local\n",
    "docker exec $DOCKER_CONTAINER_NAME sh -c \"mysqldump -u $DB_USER -p$DB_PASSWORD $DB_NAME\" > \"$LOCAL_PATH/$BACKUP_NAME\"\n",
    "\n",
    "# Compression\n",
    "gzip \"$LOCAL_PATH/$BACKUP_NAME\"\n",
    "\n",
    "# Upload vers GCS\n",
    "gsutil cp \"$LOCAL_PATH/$BACKUP_NAME.gz\" \"$GCS_BUCKET/\"\n",
    "\n",
    "# Suppression locale\n",
    "rm \"$LOCAL_PATH/$BACKUP_NAME.gz\"\n",
    "```"
   ]
  },
  {
   "cell_type": "markdown",
   "id": "bf5c5068",
   "metadata": {},
   "source": [
    "## Déplacement et donner les droits d’exécution :\n",
    "```bash\n",
    "sudo mv backup_openmetadata.sh /usr/local/bin/backup_openmetadata.sh\n",
    "sudo chmod +x /usr/local/bin/backup_openmetadata.sh\n",
    "```"
   ]
  },
  {
   "cell_type": "markdown",
   "id": "8978ffda",
   "metadata": {},
   "source": [
    "## Automatiser avec cron\n",
    "```bash\n",
    "crontab -e\n",
    "```"
   ]
  },
  {
   "cell_type": "markdown",
   "id": "3e1023a2",
   "metadata": {},
   "source": [
    "```cron\n",
    "0 2 * * * /usr/local/bin/backup_openmetadata.sh >> /var/log/openmetadata_backup.log 2>&1\n",
    "```"
   ]
  },
  {
   "cell_type": "markdown",
   "id": "06f9d9b4",
   "metadata": {},
   "source": [
    "## Tester que tout fonctionne correctement \n",
    "\n",
    "```bash\n",
    "/usr/local/bin/backup_openmetadata.sh\n",
    "```"
   ]
  },
  {
   "cell_type": "markdown",
   "id": "59a7243b",
   "metadata": {},
   "source": []
  }
 ],
 "metadata": {
  "language_info": {
   "name": "python"
  }
 },
 "nbformat": 4,
 "nbformat_minor": 5
}
