{
 "cells": [
  {
   "cell_type": "markdown",
   "id": "de82e8e6",
   "metadata": {},
   "source": [
    "```bash\n",
    "gcloud compute instances create openmetadata \\\n",
    "--zone=europe-west9-b \\\n",
    "--machine-type=e2-medium \\\n",
    "--image-family=debian-11 \\\n",
    "--image-project=debian-cloud \\\n",
    "--boot-disk-size=50GB \\\n",
    "--scopes=https://www.googleapis.com/auth/cloud-platform \\\n",
    "--service-account=1034929772164-compute@developer.gserviceaccount.com\n",
    "```"
   ]
  },
  {
   "cell_type": "markdown",
   "id": "6a78b459",
   "metadata": {
    "vscode": {
     "languageId": "plaintext"
    }
   },
   "source": [
    "```bash\n",
    "sudo apt update\n",
    "sudo apt install apt-transport-https ca-certificates curl gnupg lsb-release\n",
    "sudo mkdir -p /etc/apt/keyrings\n",
    "curl -fsSL https://download.docker.com/linux/debian/gpg | sudo gpg --dearmor -o /etc/apt/keyrings/docker.gpg\n",
    "echo \"deb [arch=$(dpkg --print-architecture) signed-by=/etc/apt/keyrings/docker.gpg] https://download.docker.com/linux/debian $(lsb_release -cs) stable\" | sudo tee /etc/apt/sources.list.d/docker.list > /dev/null\n",
    "sudo apt update\n",
    "sudo apt install docker-ce docker-ce-cli containerd.io docker-compose-plugin\n",
    "docker --version\n",
    "sudo usermod -aG docker $USER\n",
    "```"
   ]
  },
  {
   "cell_type": "markdown",
   "id": "e75d3e4b",
   "metadata": {},
   "source": [
    "```bash\n",
    "mkdir openmetadata-docker && cd openmetadata-docker\n",
    "```"
   ]
  },
  {
   "cell_type": "markdown",
   "id": "76fbca51",
   "metadata": {},
   "source": [
    "```bash\n",
    "curl -sL -o docker-compose.yml https://github.com/open-metadata/OpenMetadata/releases/download/1.6.8-release/docker-compose.yml\n",
    "\n",
    "curl -sL -o docker-compose-postgres.yml https://github.com/open-metadata/OpenMetadata/releases/download/1.6.8-release/docker-compose-postgres.yml\n",
    "```"
   ]
  },
  {
   "cell_type": "markdown",
   "id": "a31d2085",
   "metadata": {},
   "source": [
    "```bash\n",
    "wget https://github.com/open-metadata/OpenMetadata/releases/download/1.6.8-release/docker-compose.yml\n",
    "\n",
    "wget https://github.com/open-metadata/OpenMetadata/releases/download/1.6.8-release/docker-compose-postgres.yml\n",
    "```"
   ]
  },
  {
   "cell_type": "markdown",
   "id": "cfc2e6e5",
   "metadata": {},
   "source": [
    "```bash\n",
    "docker compose -f docker-compose.yml up --detach\n",
    "```"
   ]
  },
  {
   "cell_type": "markdown",
   "id": "dc0da826",
   "metadata": {},
   "source": []
  }
 ],
 "metadata": {
  "language_info": {
   "name": "python"
  }
 },
 "nbformat": 4,
 "nbformat_minor": 5
}
