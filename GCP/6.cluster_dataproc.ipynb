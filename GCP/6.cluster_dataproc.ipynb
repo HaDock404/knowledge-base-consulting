{
 "cells": [
  {
   "cell_type": "markdown",
   "id": "78768558",
   "metadata": {},
   "source": [
    "```bash\n",
    "gcloud dataproc clusters create cluster-ad99 \\\n",
    "  --region europe-west1 \\\n",
    "  --zone europe-west1-c \\\n",
    "  --enable-component-gateway \\\n",
    "  --no-address \\\n",
    "  --master-machine-type n4-standard-2 \\\n",
    "  --master-boot-disk-type hyperdisk-balanced \\\n",
    "  --master-boot-disk-size 100 \\\n",
    "  --num-workers 2 \\\n",
    "  --worker-machine-type n4-standard-2 \\\n",
    "  --worker-boot-disk-type hyperdisk-balanced \\\n",
    "  --worker-boot-disk-size 200 \\\n",
    "  --image-version 2.2-debian12 \\\n",
    "  --project werner-staging\n",
    "  ```"
   ]
  },
  {
   "cell_type": "markdown",
   "id": "d1047543",
   "metadata": {},
   "source": [
    "```bash\n",
    "gcloud dataproc clusters describe cluster-ad99 --region=europe-west1\n",
    "```"
   ]
  },
  {
   "cell_type": "markdown",
   "id": "76ce9bf8",
   "metadata": {},
   "source": [
    "masterConfig :\n",
    "\n",
    "```bash\n",
    "instanceNames:\n",
    "    - cluster-ad99-m # master\n",
    "```"
   ]
  },
  {
   "cell_type": "markdown",
   "id": "d37b2a8e",
   "metadata": {},
   "source": [
    "```bash\n",
    "gcloud compute ssh cluster-ad99-m --zone=europe-west1-c\n",
    "```"
   ]
  },
  {
   "cell_type": "markdown",
   "id": "32c84608",
   "metadata": {},
   "source": [
    "## Créer une VM d'installation\n",
    "\n",
    "```bash\n",
    "gcloud compute instances create image-vm \\\n",
    "  --zone=europe-west1-c \\\n",
    "  --image-family=debian-12 \\\n",
    "  --image-project=debian-cloud \\\n",
    "  --boot-disk-size=20GB \\\n",
    "  --metadata-from-file startup-script=startup-script.sh\n",
    "\n",
    "````\n"
   ]
  },
  {
   "cell_type": "markdown",
   "id": "723570ad",
   "metadata": {},
   "source": [
    "## On vérifie les logs d'installations\n",
    "\n",
    "```bash\n",
    "cat /var/log/syslog | grep startup-script\n",
    "```"
   ]
  },
  {
   "cell_type": "markdown",
   "id": "1b385363",
   "metadata": {},
   "source": [
    "## On se connecte à l'instance \n",
    "\n",
    "```bash\n",
    "gcloud compute ssh image-vm --zone=europe-west1-c\n",
    "```"
   ]
  },
  {
   "cell_type": "markdown",
   "id": "ace7637e",
   "metadata": {},
   "source": [
    "## On installte miniconda \n",
    "\n",
    "```bash\n",
    "# Download the installation script\n",
    "wget https://repo.anaconda.com/miniconda/Miniconda3-latest-Linux-x86_64.sh -O ~/miniconda.sh\n",
    "\n",
    "# Make the script executable\n",
    "chmod +x ~/miniconda.sh\n",
    "\n",
    "# Run the installation script\n",
    "~/miniconda.sh\n",
    "\n",
    "# Initialize Conda for your shell\n",
    "source ~/miniconda3/bin/activate\n",
    "conda init bash\n",
    "\n",
    "#Delete default base\n",
    "conda config --set auto_activate_base false\n",
    "```"
   ]
  },
  {
   "cell_type": "markdown",
   "id": "c0d6c107",
   "metadata": {},
   "source": [
    "## On crée l'environnement conda\n",
    "\n",
    "```bash\n",
    "conda create --name pipeline-prod python==3.10.9\n",
    "conda activate pipeline-prod\n",
    "```"
   ]
  },
  {
   "cell_type": "markdown",
   "id": "3a1a22a6",
   "metadata": {},
   "source": [
    "## On installe le projet\n",
    "\n",
    "```bash\n",
    "git clone https://github.com/Erwin-Labs/werner-data-pipeline.git\n",
    "```"
   ]
  },
  {
   "cell_type": "markdown",
   "id": "6652449b",
   "metadata": {},
   "source": [
    "## On installe les bibliothèques\n",
    "\n",
    "```bash\n",
    "cd werner-data-pipeline\n",
    "pip install -r ./production/requirements.txt\n",
    "```"
   ]
  },
  {
   "cell_type": "markdown",
   "id": "ce88c9bb",
   "metadata": {},
   "source": [
    "## On crée une image à partir de la VM\n",
    "\n",
    "```bash\n",
    "gcloud compute instances stop image-vm --zone=europe-west1-c\n",
    "gcloud compute images create dataproc-conda310-image \\\n",
    "  --source-disk=image-vm \\\n",
    "  --source-disk-zone=europe-west1-c\n"
   ]
  },
  {
   "cell_type": "markdown",
   "id": "2fd009b7",
   "metadata": {},
   "source": [
    "## Créer un cluster Dataproc avec cette image\n",
    "\n",
    "```bash\n",
    "gcloud dataproc clusters create cluster-ad99 \\\n",
    "  --image dataproc-conda310-image \\\n",
    "  --region europe-west1 \\\n",
    "  --zone europe-west1-c \\\n",
    "  --enable-component-gateway \\\n",
    "  --no-address \\\n",
    "  --master-machine-type n4-standard-2 \\\n",
    "  --master-boot-disk-type hyperdisk-balanced \\\n",
    "  --master-boot-disk-size 100 \\\n",
    "  --num-workers 2 \\\n",
    "  --worker-machine-type n4-standard-2 \\\n",
    "  --worker-boot-disk-type hyperdisk-balanced \\\n",
    "  --worker-boot-disk-size 200 \\\n",
    "  --image-version 2.2-debian12 \\\n",
    "  --project werner-staging\n",
    "```"
   ]
  }
 ],
 "metadata": {
  "language_info": {
   "name": "python"
  }
 },
 "nbformat": 4,
 "nbformat_minor": 5
}
