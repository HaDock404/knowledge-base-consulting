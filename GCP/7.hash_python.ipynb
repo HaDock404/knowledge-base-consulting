{
 "cells": [
  {
   "cell_type": "code",
   "execution_count": 3,
   "id": "be1d7be6",
   "metadata": {},
   "outputs": [],
   "source": [
    "import bcrypt"
   ]
  },
  {
   "cell_type": "code",
   "execution_count": 4,
   "id": "39efe312",
   "metadata": {},
   "outputs": [
    {
     "name": "stdout",
     "output_type": "stream",
     "text": [
      "$2b$12$XWfNGP/G3ZKZxnn05rr7cul60H4KqiJtwb3SghJiRCWIpYJjxzhu.\n"
     ]
    }
   ],
   "source": [
    "new_password = \"G@eltest2025\"\n",
    "hashed = bcrypt.hashpw(new_password.encode('utf-8'), bcrypt.gensalt())\n",
    "print(hashed.decode())"
   ]
  },
  {
   "cell_type": "markdown",
   "id": "1a92ca85",
   "metadata": {},
   "source": [
    "```sql\n",
    "UPDATE user_entity\n",
    "SET json = JSON_SET(json, '$.authenticationMechanism.config.password', '$2b$12$XWfNGP/G3ZKZxnn05rr7cul60H4KqiJtwb3SghJiRCWIpYJjxzhu.')\n",
    "WHERE id = 'be0dff13-f440-4ceb-9111-dc596926b462';\n",
    "```"
   ]
  },
  {
   "cell_type": "code",
   "execution_count": 5,
   "id": "1ac8e33c",
   "metadata": {},
   "outputs": [
    {
     "name": "stdout",
     "output_type": "stream",
     "text": [
      "$2b$12$Ic33BUO/TDQMr1b7ocaij.x3CzW63T2IZVrNHC9MjVNDFG5mPkWWe\n"
     ]
    }
   ],
   "source": [
    "new_password = \"Nouveaupassword2025@\"\n",
    "hashed = bcrypt.hashpw(new_password.encode('utf-8'), bcrypt.gensalt())\n",
    "print(hashed.decode())"
   ]
  },
  {
   "cell_type": "markdown",
   "id": "37ebe05a",
   "metadata": {},
   "source": [
    "```sql\n",
    "UPDATE user_entity\n",
    "SET json = JSON_SET(json, '$.authenticationMechanism.config.password', '$2b$12$Ic33BUO/TDQMr1b7ocaij.x3CzW63T2IZVrNHC9MjVNDFG5mPkWWe')\n",
    "WHERE id = '8ae820a8-0eb0-4c96-b763-cd0094930c93';\n",
    "```"
   ]
  }
 ],
 "metadata": {
  "kernelspec": {
   "display_name": "erwin-process",
   "language": "python",
   "name": "python3"
  },
  "language_info": {
   "codemirror_mode": {
    "name": "ipython",
    "version": 3
   },
   "file_extension": ".py",
   "mimetype": "text/x-python",
   "name": "python",
   "nbconvert_exporter": "python",
   "pygments_lexer": "ipython3",
   "version": "3.10.9"
  }
 },
 "nbformat": 4,
 "nbformat_minor": 5
}
