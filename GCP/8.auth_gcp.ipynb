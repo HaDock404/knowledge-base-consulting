{
 "cells": [
  {
   "cell_type": "markdown",
   "id": "48a19492",
   "metadata": {},
   "source": [
    "##  Ajouter le nouveau compte dans le terminal avec gcloud\n",
    "\n",
    "```bash\n",
    "gcloud auth login\n",
    "```\n",
    "\n",
    "## Lister les comptes disponibles\n",
    "\n",
    "```bash\n",
    "gcloud auth list\n",
    "```\n",
    "\n",
    "## Changer de compte\n",
    "\n",
    "```bash\n",
    "gcloud config set account compte2@exemple.com\n",
    "```"
   ]
  },
  {
   "cell_type": "markdown",
   "id": "622c1c82",
   "metadata": {},
   "source": []
  }
 ],
 "metadata": {
  "language_info": {
   "name": "python"
  }
 },
 "nbformat": 4,
 "nbformat_minor": 5
}
