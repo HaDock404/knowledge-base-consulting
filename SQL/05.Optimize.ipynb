{
 "cells": [
  {
   "cell_type": "markdown",
   "metadata": {},
   "source": [
    "### Création d’un index simple"
   ]
  },
  {
   "cell_type": "markdown",
   "metadata": {},
   "source": [
    "- Si on effectue souvent des recherches par email, on peut ajouter un index sur cette colonne :"
   ]
  },
  {
   "cell_type": "markdown",
   "metadata": {},
   "source": [
    "```sql\n",
    "CREATE INDEX idx_utilisateurs_email ON utilisateurs(email);\n",
    "```"
   ]
  },
  {
   "cell_type": "markdown",
   "metadata": {},
   "source": [
    "#### Test de performance avec EXPLAIN ANALYZE"
   ]
  },
  {
   "cell_type": "markdown",
   "metadata": {},
   "source": [
    "```sql\n",
    "EXPLAIN ANALYZE SELECT * FROM utilisateurs WHERE email = 'bob@example.com';\n",
    "```"
   ]
  },
  {
   "cell_type": "markdown",
   "metadata": {},
   "source": [
    "Filter: ((email)::text = 'bob@example.com'::text)  \n",
    "Rows Removed by Filter: 1  \n",
    "Planning Time: 0.272 ms  \n",
    "Execution Time: 0.026 ms  "
   ]
  },
  {
   "cell_type": "markdown",
   "metadata": {},
   "source": [
    "### Index sur plusieurs colonnes"
   ]
  },
  {
   "cell_type": "markdown",
   "metadata": {},
   "source": [
    "- Si une requête filtre souvent sur ```nom``` et ```email```, on peut créer un index composite :"
   ]
  },
  {
   "cell_type": "markdown",
   "metadata": {},
   "source": [
    "```sql\n",
    "CREATE INDEX idx_utilisateurs_nom_email ON utilisateurs(nom, email);\n",
    "```"
   ]
  },
  {
   "cell_type": "markdown",
   "metadata": {},
   "source": [
    "Attention : Un index composite n’est utile que si la requête filtre sur la première colonne (ici nom), sinon il ne sera pas utilisé."
   ]
  },
  {
   "cell_type": "markdown",
   "metadata": {},
   "source": [
    "### Index GIN pour les recherches textuelles avancées\n",
    "\n",
    "- Pour rechercher des mots dans un texte, PostgreSQL propose l’index ```GIN``` :"
   ]
  },
  {
   "cell_type": "markdown",
   "metadata": {},
   "source": [
    "```sql\n",
    "CREATE INDEX idx_utilisateurs_nom_gin ON utilisateurs USING gin(to_tsvector('french', nom));\n",
    "```"
   ]
  },
  {
   "cell_type": "markdown",
   "metadata": {},
   "source": [
    "- Puis, une recherche optimisée :"
   ]
  },
  {
   "cell_type": "markdown",
   "metadata": {},
   "source": [
    "```sql\n",
    "SELECT * FROM utilisateurs WHERE to_tsvector('french', nom) @@ to_tsquery('Martin');\n",
    "```"
   ]
  },
  {
   "cell_type": "markdown",
   "metadata": {},
   "source": [
    "### Transactions et performances\n",
    "\n",
    "Les transactions garantissent que plusieurs opérations s’exécutent ensemble ou pas du tout (Atomicité)."
   ]
  },
  {
   "cell_type": "markdown",
   "metadata": {},
   "source": [
    "```sql\n",
    "BEGIN;\n",
    "UPDATE utilisateurs SET age = age + 1 WHERE id = 1;\n",
    "INSERT INTO commandes (utilisateur_id, produit, prix) VALUES (1, 'Clavier', 49.99);\n",
    "COMMIT;\n",
    "```"
   ]
  },
  {
   "cell_type": "markdown",
   "metadata": {},
   "source": [
    "Si une erreur survient, on peut annuler avec :\n",
    "\n",
    "```sql\n",
    "ROLLBACK;\n",
    "```"
   ]
  },
  {
   "cell_type": "markdown",
   "metadata": {},
   "source": [
    "### Optimisation avec ```BATCH INSERT```"
   ]
  },
  {
   "cell_type": "markdown",
   "metadata": {},
   "source": [
    "Au lieu d’insérer ligne par ligne (lent) :\n",
    "\n",
    "```sql\n",
    "INSERT INTO commandes (utilisateur_id, produit, prix) \n",
    "VALUES (1, 'Clavier', 49.99);\n",
    "```\n"
   ]
  },
  {
   "cell_type": "markdown",
   "metadata": {},
   "source": [
    "Il vaut mieux insérer plusieurs lignes en une seule requête :\n",
    "\n",
    "```sql\n",
    "INSERT INTO commandes (utilisateur_id, produit, prix) \n",
    "VALUES (1, 'Clavier', 49.99), (2, 'Souris', 29.99), (3, 'Écran', 199.99);\n",
    "```"
   ]
  },
  {
   "cell_type": "markdown",
   "metadata": {},
   "source": [
    "= Gains de performance 🚀 : Moins d’allers-retours entre le client et le serveur."
   ]
  },
  {
   "cell_type": "markdown",
   "metadata": {},
   "source": [
    "### Eviter les SELECT *\n",
    "\n",
    "✅ Bonne pratique :"
   ]
  },
  {
   "cell_type": "markdown",
   "metadata": {},
   "source": [
    "```sql\n",
    "SELECT nom, email FROM utilisateurs;\n",
    "```"
   ]
  },
  {
   "cell_type": "markdown",
   "metadata": {},
   "source": [
    "### Choisir le bon type de données"
   ]
  },
  {
   "cell_type": "markdown",
   "metadata": {},
   "source": [
    "- ```VARCHAR(255)``` ❌ (inutilement grand)\n",
    "- ```VARCHAR(50)``` ✅ (plus rapide en RAM)\n",
    "- ```TEXT``` ✅ (si taille variable et texte long)\n",
    "- ```BOOLEAN``` ✅ (plutôt que ```INTEGER pour stocker ```0/1```)\n",
    "- ```TIMESTAMP WITH TIME ZONE``` ✅ (évite les problèmes de fuseaux horaires)"
   ]
  },
  {
   "cell_type": "markdown",
   "metadata": {},
   "source": [
    "### Partitionnement des tables"
   ]
  },
  {
   "cell_type": "markdown",
   "metadata": {},
   "source": [
    "- Si une table devient très grande (millions de lignes), on peut la partitionner :"
   ]
  },
  {
   "cell_type": "markdown",
   "metadata": {},
   "source": [
    "```sql\n",
    "CREATE TABLE commandes_2024 PARTITION OF commandes \n",
    "FOR VALUES FROM ('2024-01-01') TO ('2024-12-31');\n",
    "```"
   ]
  },
  {
   "cell_type": "markdown",
   "metadata": {},
   "source": [
    "= Chaque année aura sa propre partition, améliorant les performances."
   ]
  },
  {
   "cell_type": "markdown",
   "metadata": {},
   "source": [
    "### Indexation Avancée : Accélérer les Recherches\n",
    "\n",
    "#### Index B-Tree (par défaut)\n",
    "\n",
    "Accélère les recherches par égalité et ordre (```=```, ```<```, ```>```, ```BETWEEN```)"
   ]
  },
  {
   "cell_type": "markdown",
   "metadata": {},
   "source": [
    "```sql\n",
    "EXPLAIN ANALYZE SELECT * FROM produits WHERE nom = 'MacBook';\n",
    "```"
   ]
  },
  {
   "cell_type": "markdown",
   "metadata": {},
   "source": [
    "= Sans index, PostgreSQL fait un Sequential Scan (lecture complète de la table). Avec un B-Tree index, il fait un Index Scan, bien plus rapide."
   ]
  },
  {
   "cell_type": "markdown",
   "metadata": {},
   "source": [
    "#### Index Hash (Optimisé pour égalité)\n",
    "\n",
    "Si on ne fait que des recherches exactes (```=```)"
   ]
  },
  {
   "cell_type": "markdown",
   "metadata": {},
   "source": [
    "```sql\n",
    "CREATE INDEX idx_email_hash ON utilisateurs USING hash(email);\n",
    "```"
   ]
  },
  {
   "cell_type": "markdown",
   "metadata": {},
   "source": [
    "= Plus rapide que B-Tree pour = mais ne gère pas ```<```, ```>```, ```BETWEEN```."
   ]
  },
  {
   "cell_type": "markdown",
   "metadata": {},
   "source": [
    "#### Index GIN (Optimisé pour JSON et Texte)\n",
    "\n",
    "Recherche rapide dans les colonnes JSON ou TEXT"
   ]
  },
  {
   "cell_type": "markdown",
   "metadata": {},
   "source": [
    "```sql\n",
    "CREATE INDEX idx_json_gin ON produits USING gin(data_jsonb);\n",
    "```"
   ]
  },
  {
   "cell_type": "markdown",
   "metadata": {},
   "source": [
    "Accélère les recherches sur les champs JSON :"
   ]
  },
  {
   "cell_type": "markdown",
   "metadata": {},
   "source": [
    "```sql\n",
    "SELECT * FROM produits WHERE data_jsonb @> '{\"marque\": \"Apple\"}';\n",
    "```"
   ]
  },
  {
   "cell_type": "markdown",
   "metadata": {},
   "source": [
    "#### Index Full-Text Search (Recherche Texte Rapide)\n",
    "\n",
    "Recherche sur des textes longs (titre, description), utiliser un index GIN avec tsvector."
   ]
  },
  {
   "cell_type": "markdown",
   "metadata": {},
   "source": [
    "```sql\n",
    "CREATE INDEX idx_search ON articles USING gin(to_tsvector('french', contenu));\n",
    "```"
   ]
  },
  {
   "cell_type": "markdown",
   "metadata": {},
   "source": [
    "Accélère:"
   ]
  },
  {
   "cell_type": "markdown",
   "metadata": {},
   "source": [
    "```sql\n",
    "SELECT * FROM articles WHERE to_tsvector('french', contenu) @@ to_tsquery('ordinateur & portable');\n",
    "```"
   ]
  },
  {
   "cell_type": "markdown",
   "metadata": {},
   "source": [
    "#### Index BRIN (Optimisé pour les tables très grandes)\n",
    "\n",
    "Utilisation : Si les données sont insérées de manière ordonnée (ex : dates)"
   ]
  },
  {
   "cell_type": "markdown",
   "metadata": {},
   "source": [
    "```sql\n",
    "CREATE INDEX idx_date_brin ON commandes USING brin(date_commande);\n",
    "```"
   ]
  },
  {
   "cell_type": "markdown",
   "metadata": {},
   "source": [
    "Gain énorme pour des tables contenant plusieurs millions de lignes."
   ]
  },
  {
   "cell_type": "markdown",
   "metadata": {},
   "source": [
    "### Partitionnement des Tables : Gérer de Gros Volumes\n",
    "\n",
    "Si une table devient trop grande (plusieurs millions de lignes), PostgreSQL ralentit. La solution ? Partitionner la table."
   ]
  },
  {
   "cell_type": "markdown",
   "metadata": {},
   "source": [
    "#### Création d’une table partitionnée (par date)\n",
    "\n",
    "```sql\n",
    "CREATE TABLE ventes (\n",
    "    id SERIAL,\n",
    "    date_vente DATE NOT NULL,\n",
    "    produit TEXT,\n",
    "    montant NUMERIC\n",
    ") PARTITION BY RANGE (date_vente);\n",
    "```"
   ]
  },
  {
   "cell_type": "markdown",
   "metadata": {},
   "source": [
    "Créer des partitions mensuelles :"
   ]
  },
  {
   "cell_type": "markdown",
   "metadata": {},
   "source": [
    "```sql\n",
    "CREATE TABLE ventes_2024_01 PARTITION OF ventes \n",
    "FOR VALUES FROM ('2024-01-01') TO ('2024-02-01');\n",
    "```"
   ]
  },
  {
   "cell_type": "markdown",
   "metadata": {},
   "source": [
    "= PostgreSQL enregistre automatiquement les nouvelles ventes dans la bonne partition !"
   ]
  },
  {
   "cell_type": "markdown",
   "metadata": {},
   "source": [
    "✅ Accélération des requêtes :"
   ]
  },
  {
   "cell_type": "markdown",
   "metadata": {},
   "source": [
    "```sql\n",
    "EXPLAIN ANALYZE SELECT * FROM ventes WHERE date_vente BETWEEN '2024-01-01' AND '2024-01-31';\n",
    "```"
   ]
  },
  {
   "cell_type": "markdown",
   "metadata": {},
   "source": [
    "👉 PostgreSQL ne parcourt que la partition concernée !"
   ]
  },
  {
   "cell_type": "markdown",
   "metadata": {},
   "source": [
    "### Analyse et Optimisation des Requêtes\n",
    "\n",
    "Pour améliorer les performances, il faut comprendre comment PostgreSQL exécute les requêtes avec ```EXPLAIN ANALYZE```."
   ]
  },
  {
   "cell_type": "markdown",
   "metadata": {},
   "source": [
    "#### Détection des requêtes lentes"
   ]
  },
  {
   "cell_type": "markdown",
   "metadata": {},
   "source": [
    "```sql\n",
    "EXPLAIN ANALYZE SELECT * FROM commandes WHERE client_id = 123;\n",
    "```"
   ]
  },
  {
   "cell_type": "markdown",
   "metadata": {},
   "source": [
    "📌 Résultat possible :\n",
    "\n",
    "```sql\n",
    "Seq Scan on commandes (cost=0.00..125.00 rows=500 width=32)\n",
    "```"
   ]
  },
  {
   "cell_type": "markdown",
   "metadata": {},
   "source": [
    "🔴 Problème : PostgreSQL fait un \"Seq Scan\" (lecture complète de la table).  \n",
    "✅ Solution : Ajouter un index :"
   ]
  },
  {
   "cell_type": "markdown",
   "metadata": {},
   "source": [
    "```sql\n",
    "CREATE INDEX idx_client_id ON commandes(client_id);\n",
    "```"
   ]
  },
  {
   "cell_type": "markdown",
   "metadata": {},
   "source": [
    "Après l’indexation, le plan devrait afficher \"Index Scan\", beaucoup plus rapide !"
   ]
  },
  {
   "cell_type": "markdown",
   "metadata": {},
   "source": [
    "#### Cache et Optimisation de la Mémoire\n",
    "\n",
    "📌 PostgreSQL utilise un cache interne.\n",
    "\n",
    "- Vérifier la taille du cache"
   ]
  },
  {
   "cell_type": "markdown",
   "metadata": {},
   "source": [
    "```sql\n",
    "SHOW shared_buffers;\n",
    "```"
   ]
  },
  {
   "cell_type": "markdown",
   "metadata": {},
   "source": [
    "= Par défaut sur Mac, c’est souvent 128MB, trop peu pour des bases volumineuses."
   ]
  },
  {
   "cell_type": "markdown",
   "metadata": {},
   "source": [
    "- Augmenter la mémoire allouée à PostgreSQL\n",
    "\n",
    "Dans ```postgresql.`conf``` :"
   ]
  },
  {
   "cell_type": "markdown",
   "metadata": {},
   "source": [
    "shared_buffers = 512MB  \n",
    "work_mem = 64MB  \n",
    "effective_cache_size = 2GB  \n"
   ]
  },
  {
   "cell_type": "markdown",
   "metadata": {},
   "source": [
    "= Gains : Moins d’accès disque, plus de requêtes exécutées en RAM !"
   ]
  },
  {
   "cell_type": "markdown",
   "metadata": {},
   "source": [
    "|Optimisation|Utilisation|Impact|\n",
    "|:---|:---|:---|\n",
    "|Index B-Tree|Recherches ```=``` ```<``` ```>```|⚡ Rapide|\n",
    "|Index GIN|Recherches JSON et Texte|⚡ Très rapide|\n",
    "|Partitionnement|Tables énormes (millions de lignes)|🔥 Essentiel|\n",
    "|EXPLAIN ANALYZE|Détecter les requêtes lentes|🔍 Analyse|\n",
    "|Mémoire (```shared_buffers```)|Eviter les accès disque|⚡ Boost|"
   ]
  }
 ],
 "metadata": {
  "language_info": {
   "name": "python"
  }
 },
 "nbformat": 4,
 "nbformat_minor": 2
}
