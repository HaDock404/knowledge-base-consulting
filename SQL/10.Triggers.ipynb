{
 "cells": [
  {
   "cell_type": "markdown",
   "metadata": {},
   "source": [
    "### Création d’un trigger sur une table\n",
    "\n",
    "On veut un trigger qui met à jour automatiquement la colonne updated_at à chaque modification :\n",
    "\n",
    "- Ajouter la colonne si elle n’existe pas"
   ]
  },
  {
   "cell_type": "markdown",
   "metadata": {},
   "source": [
    "```sql\n",
    "ALTER TABLE produits ADD COLUMN updated_at TIMESTAMP DEFAULT NOW();\n",
    "```"
   ]
  },
  {
   "cell_type": "markdown",
   "metadata": {},
   "source": [
    "- Créer la fonction du trigger"
   ]
  },
  {
   "cell_type": "markdown",
   "metadata": {},
   "source": [
    "```sql\n",
    "CREATE OR REPLACE FUNCTION maj_updated_at()\n",
    "RETURNS TRIGGER AS $$\n",
    "BEGIN\n",
    "    NEW.updated_at := NOW();\n",
    "    RETURN NEW;\n",
    "END;\n",
    "$$ LANGUAGE plpgsql;\n",
    "```"
   ]
  },
  {
   "cell_type": "markdown",
   "metadata": {},
   "source": [
    "- Associer la fonction à un trigger"
   ]
  },
  {
   "cell_type": "markdown",
   "metadata": {},
   "source": [
    "```sql\n",
    "CREATE TRIGGER trigger_maj_updated_at\n",
    "BEFORE UPDATE ON produits\n",
    "FOR EACH ROW EXECUTE FUNCTION maj_updated_at();\n",
    "```"
   ]
  },
  {
   "cell_type": "markdown",
   "metadata": {},
   "source": [
    "= Maintenant, chaque fois qu’un produit est modifié, la colonne updated_at est mise à jour."
   ]
  },
  {
   "cell_type": "markdown",
   "metadata": {},
   "source": [
    "- exemple:"
   ]
  },
  {
   "cell_type": "markdown",
   "metadata": {},
   "source": [
    "```sql\n",
    "UPDATE produits SET prix = 150 WHERE id = 1;\n",
    "SELECT * FROM produits WHERE id = 1;\n",
    "```"
   ]
  },
  {
   "cell_type": "markdown",
   "metadata": {},
   "source": [
    "= Le champ updated_at est mis à jour automatiquement !"
   ]
  },
  {
   "cell_type": "markdown",
   "metadata": {},
   "source": [
    "### Trigger AVANT une action"
   ]
  },
  {
   "cell_type": "markdown",
   "metadata": {},
   "source": [
    "Un trigger BEFORE permet de modifier les données avant leur insertion.\n",
    "\n",
    "- Empêcher un prix négatif"
   ]
  },
  {
   "cell_type": "markdown",
   "metadata": {},
   "source": [
    "```sql\n",
    "CREATE OR REPLACE FUNCTION check_prix()\n",
    "RETURNS TRIGGER AS $$\n",
    "BEGIN\n",
    "    IF NEW.prix < 0 THEN\n",
    "        RAISE EXCEPTION 'Le prix ne peut pas être négatif !';\n",
    "    END IF;\n",
    "    RETURN NEW;\n",
    "END;\n",
    "$$ LANGUAGE plpgsql;\n",
    "\n",
    "CREATE TRIGGER trigger_check_prix\n",
    "BEFORE INSERT OR UPDATE ON produits\n",
    "FOR EACH ROW EXECUTE FUNCTION check_prix();\n",
    "```"
   ]
  },
  {
   "cell_type": "markdown",
   "metadata": {},
   "source": [
    "= PostgreSQL bloque les prix négatifs automatiquement."
   ]
  },
  {
   "cell_type": "markdown",
   "metadata": {},
   "source": [
    "### Trigger APRÈS une action\n",
    "\n",
    "Un trigger AFTER est utile pour auditer ou synchroniser des données après une modification.\n",
    "\n",
    "- Enregistrer les suppressions dans un journal"
   ]
  },
  {
   "cell_type": "markdown",
   "metadata": {},
   "source": [
    "```sql\n",
    "CREATE TABLE produits_deleted (\n",
    "    id SERIAL PRIMARY KEY,\n",
    "    produit_id INT,\n",
    "    deleted_at TIMESTAMP DEFAULT NOW()\n",
    ");\n",
    "```"
   ]
  },
  {
   "cell_type": "markdown",
   "metadata": {},
   "source": [
    "```sql\n",
    "CREATE OR REPLACE FUNCTION log_suppression_produit()\n",
    "RETURNS TRIGGER AS $$\n",
    "BEGIN\n",
    "    INSERT INTO produits_deleted (produit_id) VALUES (OLD.id);\n",
    "    RETURN OLD;\n",
    "END;\n",
    "$$ LANGUAGE plpgsql;\n",
    "\n",
    "CREATE TRIGGER trigger_log_delete\n",
    "AFTER DELETE ON produits\n",
    "FOR EACH ROW EXECUTE FUNCTION log_suppression_produit();\n",
    "```"
   ]
  },
  {
   "cell_type": "markdown",
   "metadata": {},
   "source": [
    "= Toutes les suppressions de produits sont enregistrées dans produits_deleted."
   ]
  },
  {
   "cell_type": "markdown",
   "metadata": {},
   "source": [
    "### Triggers pour Synchroniser PostgreSQL et Elasticsearch\n",
    "\n",
    "L’objectif est de mettre à jour Elasticsearch automatiquement quand une modification est faite dans PostgreSQL.\n",
    "\n",
    "- Ajouter un produit dans Elasticsearch après son insertion\n",
    "\n",
    "On va appeler une API avec http_post (via pg_cron ou pg_notify dans un vrai projet)."
   ]
  },
  {
   "cell_type": "markdown",
   "metadata": {},
   "source": [
    "```sql\n",
    "CREATE OR REPLACE FUNCTION sync_elasticsearch()\n",
    "RETURNS TRIGGER AS $$\n",
    "DECLARE\n",
    "    json_data TEXT;\n",
    "BEGIN\n",
    "    json_data := json_build_object(\n",
    "        'id', NEW.id,\n",
    "        'nom', NEW.nom,\n",
    "        'prix', NEW.prix\n",
    "    )::TEXT;\n",
    "\n",
    "    PERFORM pg_notify('elasticsearch_sync', json_data);\n",
    "    RETURN NEW;\n",
    "END;\n",
    "$$ LANGUAGE plpgsql;\n",
    "\n",
    "CREATE TRIGGER trigger_sync_elasticsearch\n",
    "AFTER INSERT OR UPDATE ON produits\n",
    "FOR EACH ROW EXECUTE FUNCTION sync_elasticsearch();\n",
    "```"
   ]
  },
  {
   "cell_type": "markdown",
   "metadata": {},
   "source": [
    "PostgreSQL envoie un message à un listener (pg_notify) qui peut déclencher une mise à jour Elasticsearch."
   ]
  },
  {
   "cell_type": "markdown",
   "metadata": {},
   "source": [
    "|Action|Fonction / Trigger|\n",
    "|:---|:---|\n",
    "|Créer une fonction stockée|```CREATE FUNCTION```|\n",
    "|Automatiser une mise à jour (ex: updated_at)|```BEFORE UPDATE``` trigger|\n",
    "|Empêcher des données invalides (ex: prix négatif)|```BEFORE INSERT OR UPDATE``` trigger|\n",
    "|Enregistrer les suppressions|```AFTER DELETE``` trigger|\n",
    "|Synchroniser PostgreSQL avec Elasticsearch|```AFTER INSERT OR UPDATE``` trigger + ```pg_notify```|"
   ]
  },
  {
   "cell_type": "markdown",
   "metadata": {},
   "source": []
  }
 ],
 "metadata": {
  "language_info": {
   "name": "python"
  }
 },
 "nbformat": 4,
 "nbformat_minor": 2
}
