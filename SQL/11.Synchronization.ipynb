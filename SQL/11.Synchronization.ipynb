{
 "cells": [
  {
   "cell_type": "markdown",
   "metadata": {},
   "source": [
    "### PostgreSQL ↔ Elasticsearch\n",
    "\n",
    "Il existe plusieurs façons de synchroniser PostgreSQL avec Elasticsearch :\n",
    "\n",
    "|Méthode|Avantages|Inconvénients|\n",
    "|:---|:---|:---|\n",
    "|Triggers + pg_notify|Réactif et efficace|Besoin d'un service externe pour traiter les notifications|\n",
    "|Python (Elasticsearch-Py)|Contrôle total sur la synchronisation|Code personnalisé à écrire|\n",
    "|Logstash (JDBC Input Plugin)|Configuration simple|Temps de latence entre les mises à jour|\n",
    "|Debezium (Change Data Capture - CDC)|Réplication en temps réel|Nécessite Kafka ou Redis|"
   ]
  },
  {
   "cell_type": "markdown",
   "metadata": {},
   "source": [
    "### Triggers PostgreSQL + pg_notify\n",
    "\n",
    "L'idée ici est que chaque modification dans PostgreSQL envoie un événement à un système externe (ex: un script Python qui écoute PostgreSQL et met à jour Elasticsearch).\n",
    "\n",
    "- Création d’un trigger pour notifier les mises à jour"
   ]
  },
  {
   "cell_type": "markdown",
   "metadata": {},
   "source": [
    "```sql\n",
    "CREATE OR REPLACE FUNCTION notify_elasticsearch()\n",
    "RETURNS TRIGGER AS $$\n",
    "DECLARE\n",
    "    json_data TEXT;\n",
    "BEGIN\n",
    "    json_data := json_build_object(\n",
    "        'action', TG_OP,  -- INSERT, UPDATE, DELETE\n",
    "        'id', NEW.id,\n",
    "        'nom', NEW.nom,\n",
    "        'description', NEW.description,\n",
    "        'prix', NEW.prix\n",
    "    )::TEXT;\n",
    "\n",
    "    PERFORM pg_notify('elasticsearch_sync', json_data);\n",
    "    RETURN NEW;\n",
    "END;\n",
    "$$ LANGUAGE plpgsql;\n",
    "```"
   ]
  },
  {
   "cell_type": "markdown",
   "metadata": {},
   "source": [
    "- Associer la fonction à un trigger"
   ]
  },
  {
   "cell_type": "markdown",
   "metadata": {},
   "source": [
    "```sql\n",
    "CREATE TRIGGER trigger_elasticsearch\n",
    "AFTER INSERT OR UPDATE ON produits\n",
    "FOR EACH ROW EXECUTE FUNCTION notify_elasticsearch();\n",
    "```"
   ]
  },
  {
   "cell_type": "markdown",
   "metadata": {},
   "source": [
    "= Maintenant, à chaque modification, PostgreSQL enverra un événement pg_notify avec les données du produit."
   ]
  },
  {
   "cell_type": "markdown",
   "metadata": {},
   "source": []
  }
 ],
 "metadata": {
  "language_info": {
   "name": "python"
  }
 },
 "nbformat": 4,
 "nbformat_minor": 2
}
