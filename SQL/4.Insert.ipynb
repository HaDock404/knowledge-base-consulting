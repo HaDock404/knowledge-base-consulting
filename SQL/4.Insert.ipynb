{
 "cells": [
  {
   "cell_type": "markdown",
   "metadata": {},
   "source": [
    "### Insérer des données:"
   ]
  },
  {
   "cell_type": "markdown",
   "metadata": {},
   "source": [
    "```sql\n",
    "INSERT INTO utilisateurs (nom, email, age) \n",
    "VALUES \n",
    "    ('Alice Dupont', 'alice@example.com', 25),\n",
    "    ('Bob Martin', 'bob@example.com', 30);\n",
    "```"
   ]
  },
  {
   "cell_type": "markdown",
   "metadata": {},
   "source": [
    "- Vérifier les données insérées :"
   ]
  },
  {
   "cell_type": "markdown",
   "metadata": {},
   "source": [
    "```sql\n",
    "SELECT * FROM utilisateurs;\n",
    "```"
   ]
  },
  {
   "cell_type": "markdown",
   "metadata": {},
   "source": [
    "### Mettre à jour et supprimer des données:"
   ]
  },
  {
   "cell_type": "markdown",
   "metadata": {},
   "source": [
    "- modifier un utilisateur"
   ]
  },
  {
   "cell_type": "markdown",
   "metadata": {},
   "source": [
    "```sql\n",
    "UPDATE utilisateurs \n",
    "SET age = 35 \n",
    "WHERE email = 'bob@example.com';\n",
    "```"
   ]
  },
  {
   "cell_type": "markdown",
   "metadata": {},
   "source": [
    "- supprimer un utilisateur"
   ]
  },
  {
   "cell_type": "markdown",
   "metadata": {},
   "source": [
    "```sql\n",
    "DELETE FROM utilisateurs \n",
    "WHERE email = 'alice@example.com';\n",
    "```"
   ]
  },
  {
   "cell_type": "markdown",
   "metadata": {},
   "source": [
    "### Ajout de relations entre différentes tables:"
   ]
  },
  {
   "cell_type": "markdown",
   "metadata": {},
   "source": [
    "- On crée une table commandes liée aux utilisateurs :"
   ]
  },
  {
   "cell_type": "markdown",
   "metadata": {},
   "source": [
    "```sql\n",
    "CREATE TABLE commandes (\n",
    "    id SERIAL PRIMARY KEY,\n",
    "    utilisateur_id INT REFERENCES utilisateurs(id) ON DELETE CASCADE,\n",
    "    produit VARCHAR(100) NOT NULL,\n",
    "    prix DECIMAL(10,2) NOT NULL,\n",
    "    date_commande TIMESTAMP DEFAULT CURRENT_TIMESTAMP\n",
    ");\n"
   ]
  },
  {
   "cell_type": "markdown",
   "metadata": {},
   "source": []
  }
 ],
 "metadata": {
  "language_info": {
   "name": "python"
  }
 },
 "nbformat": 4,
 "nbformat_minor": 2
}
