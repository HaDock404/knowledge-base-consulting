{
 "cells": [
  {
   "cell_type": "markdown",
   "metadata": {},
   "source": [
    "### Création d’un index simple"
   ]
  },
  {
   "cell_type": "markdown",
   "metadata": {},
   "source": [
    "- Si on effectue souvent des recherches par email, on peut ajouter un index sur cette colonne :"
   ]
  },
  {
   "cell_type": "markdown",
   "metadata": {},
   "source": [
    "```sql\n",
    "CREATE INDEX idx_utilisateurs_email ON utilisateurs(email);\n",
    "```"
   ]
  },
  {
   "cell_type": "markdown",
   "metadata": {},
   "source": [
    "#### Test de performance avec EXPLAIN ANALYZE"
   ]
  },
  {
   "cell_type": "markdown",
   "metadata": {},
   "source": [
    "```sql\n",
    "EXPLAIN ANALYZE SELECT * FROM utilisateurs WHERE email = 'bob@example.com';\n",
    "```"
   ]
  },
  {
   "cell_type": "markdown",
   "metadata": {},
   "source": [
    "Filter: ((email)::text = 'bob@example.com'::text)  \n",
    "Rows Removed by Filter: 1  \n",
    "Planning Time: 0.272 ms  \n",
    "Execution Time: 0.026 ms  "
   ]
  },
  {
   "cell_type": "markdown",
   "metadata": {},
   "source": [
    "### Index sur plusieurs colonnes"
   ]
  },
  {
   "cell_type": "markdown",
   "metadata": {},
   "source": [
    "- Si une requête filtre souvent sur ```nom``` et ```email```, on peut créer un index composite :"
   ]
  },
  {
   "cell_type": "markdown",
   "metadata": {},
   "source": [
    "```sql\n",
    "CREATE INDEX idx_utilisateurs_nom_email ON utilisateurs(nom, email);\n",
    "```"
   ]
  },
  {
   "cell_type": "markdown",
   "metadata": {},
   "source": [
    "Attention : Un index composite n’est utile que si la requête filtre sur la première colonne (ici nom), sinon il ne sera pas utilisé."
   ]
  },
  {
   "cell_type": "markdown",
   "metadata": {},
   "source": [
    "### Index GIN pour les recherches textuelles avancées\n",
    "\n",
    "- Pour rechercher des mots dans un texte, PostgreSQL propose l’index ```GIN``` :"
   ]
  },
  {
   "cell_type": "markdown",
   "metadata": {},
   "source": [
    "```sql\n",
    "CREATE INDEX idx_utilisateurs_nom_gin ON utilisateurs USING gin(to_tsvector('french', nom));\n",
    "```"
   ]
  },
  {
   "cell_type": "markdown",
   "metadata": {},
   "source": [
    "- Puis, une recherche optimisée :"
   ]
  },
  {
   "cell_type": "markdown",
   "metadata": {},
   "source": [
    "```sql\n",
    "SELECT * FROM utilisateurs WHERE to_tsvector('french', nom) @@ to_tsquery('Martin');\n",
    "```"
   ]
  },
  {
   "cell_type": "markdown",
   "metadata": {},
   "source": [
    "### Transactions et performances\n",
    "\n",
    "Les transactions garantissent que plusieurs opérations s’exécutent ensemble ou pas du tout (Atomicité)."
   ]
  },
  {
   "cell_type": "markdown",
   "metadata": {},
   "source": [
    "```sql\n",
    "BEGIN;\n",
    "UPDATE utilisateurs SET age = age + 1 WHERE id = 1;\n",
    "INSERT INTO commandes (utilisateur_id, produit, prix) VALUES (1, 'Clavier', 49.99);\n",
    "COMMIT;\n",
    "```"
   ]
  },
  {
   "cell_type": "markdown",
   "metadata": {},
   "source": [
    "Si une erreur survient, on peut annuler avec :\n",
    "\n",
    "```sql\n",
    "ROLLBACK;\n",
    "```"
   ]
  },
  {
   "cell_type": "markdown",
   "metadata": {},
   "source": [
    "### Optimisation avec ```BATCH INSERT```"
   ]
  },
  {
   "cell_type": "markdown",
   "metadata": {},
   "source": [
    "Au lieu d’insérer ligne par ligne (lent) :\n",
    "\n",
    "```sql\n",
    "INSERT INTO commandes (utilisateur_id, produit, prix) \n",
    "VALUES (1, 'Clavier', 49.99);\n",
    "```\n"
   ]
  },
  {
   "cell_type": "markdown",
   "metadata": {},
   "source": [
    "Il vaut mieux insérer plusieurs lignes en une seule requête :\n",
    "\n",
    "```sql\n",
    "INSERT INTO commandes (utilisateur_id, produit, prix) \n",
    "VALUES (1, 'Clavier', 49.99), (2, 'Souris', 29.99), (3, 'Écran', 199.99);\n",
    "```"
   ]
  },
  {
   "cell_type": "markdown",
   "metadata": {},
   "source": [
    "= Gains de performance 🚀 : Moins d’allers-retours entre le client et le serveur."
   ]
  },
  {
   "cell_type": "markdown",
   "metadata": {},
   "source": [
    "### Eviter les SELECT *\n",
    "\n",
    "✅ Bonne pratique :"
   ]
  },
  {
   "cell_type": "markdown",
   "metadata": {},
   "source": [
    "```sql\n",
    "SELECT nom, email FROM utilisateurs;\n",
    "```"
   ]
  },
  {
   "cell_type": "markdown",
   "metadata": {},
   "source": [
    "### Choisir le bon type de données"
   ]
  },
  {
   "cell_type": "markdown",
   "metadata": {},
   "source": [
    "- ```VARCHAR(255)``` ❌ (inutilement grand)\n",
    "- ```VARCHAR(50)``` ✅ (plus rapide en RAM)\n",
    "- ```TEXT``` ✅ (si taille variable et texte long)\n",
    "- ```BOOLEAN``` ✅ (plutôt que ```INTEGER pour stocker ```0/1```)\n",
    "- ```TIMESTAMP WITH TIME ZONE``` ✅ (évite les problèmes de fuseaux horaires)"
   ]
  },
  {
   "cell_type": "markdown",
   "metadata": {},
   "source": [
    "### Partitionnement des tables"
   ]
  },
  {
   "cell_type": "markdown",
   "metadata": {},
   "source": [
    "- Si une table devient très grande (millions de lignes), on peut la partitionner :"
   ]
  },
  {
   "cell_type": "markdown",
   "metadata": {},
   "source": [
    "```sql\n",
    "CREATE TABLE commandes_2024 PARTITION OF commandes \n",
    "FOR VALUES FROM ('2024-01-01') TO ('2024-12-31');\n",
    "```"
   ]
  },
  {
   "cell_type": "markdown",
   "metadata": {},
   "source": [
    "= Chaque année aura sa propre partition, améliorant les performances."
   ]
  }
 ],
 "metadata": {
  "language_info": {
   "name": "python"
  }
 },
 "nbformat": 4,
 "nbformat_minor": 2
}
