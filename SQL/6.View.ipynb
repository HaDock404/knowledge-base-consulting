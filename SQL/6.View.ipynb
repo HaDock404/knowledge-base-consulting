{
 "cells": [
  {
   "cell_type": "markdown",
   "metadata": {},
   "source": [
    "### Vue dans PostgreSQL"
   ]
  },
  {
   "cell_type": "markdown",
   "metadata": {},
   "source": [
    "Une vue est une requête enregistrée qui fonctionne comme une table virtuelle. Elle permet de :  \n",
    "- ✅ Simplifier l’accès aux données complexes\n",
    "- ✅ Sécuriser les données (montrer seulement certaines colonnes)\n",
    "- ✅ Faciliter la réutilisation de requêtes"
   ]
  },
  {
   "cell_type": "markdown",
   "metadata": {},
   "source": [
    "### Création d’une vue\n",
    "\n",
    "- afficher uniquement les utilisateurs de plus de 25 ans :"
   ]
  },
  {
   "cell_type": "markdown",
   "metadata": {},
   "source": [
    "```sql\n",
    "CREATE VIEW vue_utilisateurs_adultes AS \n",
    "SELECT id, nom, email, age \n",
    "FROM utilisateurs \n",
    "WHERE age > 25;\n",
    "```"
   ]
  },
  {
   "cell_type": "markdown",
   "metadata": {},
   "source": [
    "- On peut ensuite l’utiliser comme une table normale :"
   ]
  },
  {
   "cell_type": "markdown",
   "metadata": {},
   "source": [
    "```sql\n",
    "SELECT * FROM vue_utilisateurs_adultes;\n",
    "```"
   ]
  },
  {
   "cell_type": "markdown",
   "metadata": {},
   "source": [
    "### Mise à jour des données via une vue"
   ]
  },
  {
   "cell_type": "markdown",
   "metadata": {},
   "source": [
    "```sql\n",
    "UPDATE vue_utilisateurs_adultes \n",
    "SET age = 40 \n",
    "WHERE email = 'bob@example.com';\n",
    "```"
   ]
  },
  {
   "cell_type": "markdown",
   "metadata": {},
   "source": [
    "### Les vues matérialisées : Accélérer les requêtes lentes\n",
    "\n",
    "Une vue matérialisée stocke physiquement les données, contrairement à une vue classique qui les calcule à chaque requête.\n",
    "- ✅ Utile pour optimiser les requêtes lourdes\n",
    "- ✅ Éviter de recalculer les mêmes résultats plusieurs fois"
   ]
  },
  {
   "cell_type": "markdown",
   "metadata": {},
   "source": [
    "### Création d’une vue matérialisée"
   ]
  },
  {
   "cell_type": "markdown",
   "metadata": {},
   "source": [
    "```sql\n",
    "CREATE MATERIALIZED VIEW vue_mat_commandes AS \n",
    "SELECT utilisateur_id, COUNT(*) AS nombre_commandes \n",
    "FROM commandes \n",
    "GROUP BY utilisateur_id;\n",
    "```"
   ]
  },
  {
   "cell_type": "markdown",
   "metadata": {},
   "source": [
    "= 🚀 Optimisation : On évite de recalculer ```COUNT(*)``` à chaque requête !"
   ]
  },
  {
   "cell_type": "markdown",
   "metadata": {},
   "source": [
    "### Rafraîchir une vue matérialisée\n",
    "\n",
    "Contrairement aux vues normales, les vues matérialisées ne se mettent pas à jour automatiquement.\n",
    "- On doit les rafraîchir manuellement pour refléter les nouvelles données :"
   ]
  },
  {
   "cell_type": "markdown",
   "metadata": {},
   "source": [
    "```sql\n",
    "REFRESH MATERIALIZED VIEW vue_mat_commandes;\n",
    "```"
   ]
  },
  {
   "cell_type": "markdown",
   "metadata": {},
   "source": [
    "### Quand utiliser une vue ou une vue matérialisée ?\n",
    "\n",
    "|Critère|Vue normale|Vue matérialisée|\n",
    "|:---|:---|:---|\n",
    "|Performance|Rapide sur de petits datasets|Idéale pour de gros volumes|\n",
    "|Données mises à jour|Toujours à jour|Nécessite un ```REFRESH```|\n",
    "|Espace disque|Aucun stockage supplémentaire|Stocke physiquement les données|\n",
    "|Idéal pour|Simplifier l’accès aux données|Optimiser les requêtes lentes|\n"
   ]
  },
  {
   "cell_type": "markdown",
   "metadata": {},
   "source": []
  }
 ],
 "metadata": {
  "language_info": {
   "name": "python"
  }
 },
 "nbformat": 4,
 "nbformat_minor": 2
}
