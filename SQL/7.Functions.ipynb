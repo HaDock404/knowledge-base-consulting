{
 "cells": [
  {
   "cell_type": "markdown",
   "metadata": {},
   "source": [
    "### Les fonctions stockées (Stored Procedures & Functions)"
   ]
  },
  {
   "cell_type": "markdown",
   "metadata": {},
   "source": [
    "Une fonction stockée est un bloc de code SQL enregistré dans la base qui peut être exécuté plusieurs fois.  \n",
    "\n",
    "🔹 Avantages :\n",
    "- ✅ Automatiser des traitements complexes\n",
    "- ✅ Réduire le trafic entre l’application et la base\n",
    "- ✅ Améliorer les performances"
   ]
  },
  {
   "cell_type": "markdown",
   "metadata": {},
   "source": [
    "### Création d’une fonction stockée\n",
    "Une fonction stockée retourne une valeur et peut être utilisée dans une requête.\n",
    "\n",
    "- Calculer l’âge d’un utilisateur à partir de sa date de naissance"
   ]
  },
  {
   "cell_type": "markdown",
   "metadata": {},
   "source": [
    "```sql\n",
    "CREATE OR REPLACE FUNCTION calculer_age(date_naissance DATE) \n",
    "RETURNS INT AS $$\n",
    "BEGIN\n",
    "    RETURN EXTRACT(YEAR FROM AGE(date_naissance));\n",
    "END;\n",
    "$$ LANGUAGE plpgsql;\n",
    "```"
   ]
  },
  {
   "cell_type": "markdown",
   "metadata": {},
   "source": [
    "🔹 Explication :\n",
    "\n",
    "- ```plpgsql``` est le langage de procédure SQL de PostgreSQL\n",
    "- ```EXTRACT(YEAR FROM AGE(date_naissance))``` calcule l’âge à partir de la date de naissance\n"
   ]
  },
  {
   "cell_type": "markdown",
   "metadata": {},
   "source": [
    "- Utilisation de la fonction :"
   ]
  },
  {
   "cell_type": "markdown",
   "metadata": {},
   "source": [
    "```sql\n",
    "SELECT nom, calculer_age(date_naissance) AS age FROM utilisateurs;\n",
    "```"
   ]
  },
  {
   "cell_type": "markdown",
   "metadata": {},
   "source": [
    "### Création d’une procédure stockée\n",
    "\n",
    "Contrairement aux fonctions, une procédure stockée ne retourne pas de valeur mais peut exécuter des actions (INSERT, UPDATE, DELETE).\n",
    "\n",
    "- Ajouter un nouvel utilisateur et afficher un message"
   ]
  },
  {
   "cell_type": "markdown",
   "metadata": {},
   "source": [
    "```sql\n",
    "CREATE OR REPLACE PROCEDURE ajouter_utilisateur(nom VARCHAR, email VARCHAR, age INT) \n",
    "LANGUAGE plpgsql \n",
    "AS $$\n",
    "BEGIN\n",
    "    INSERT INTO utilisateurs(nom, email, age) VALUES (nom, email, age);\n",
    "    RAISE NOTICE 'Utilisateur % ajouté avec succès', nom;\n",
    "END;\n",
    "$$;\n",
    "```"
   ]
  },
  {
   "cell_type": "markdown",
   "metadata": {},
   "source": [
    "- Appel de la procédure :"
   ]
  },
  {
   "cell_type": "markdown",
   "metadata": {},
   "source": [
    "```sql\n",
    "CALL ajouter_utilisateur('Alice', 'alice@example.com', 30);\n",
    "```"
   ]
  },
  {
   "cell_type": "markdown",
   "metadata": {},
   "source": [
    "### Les triggers (Déclencheurs)\n",
    "\n",
    "Un trigger permet d’exécuter une action automatiquement avant ou après un événement (INSERT, UPDATE, DELETE).  \n",
    "\n",
    "🔹 Cas d’usage :\n",
    "- ✅ Mise à jour automatique d’un champ\n",
    "- ✅ Vérification des données avant un INSERT\n",
    "- ✅ Journalisation des modifications"
   ]
  },
  {
   "cell_type": "markdown",
   "metadata": {},
   "source": [
    "### Création d’un trigger simple\n",
    "\n",
    "Imaginons une table historique_commandes qui stocke les commandes supprimées.\n",
    "\n",
    "- Création de la table d’historique"
   ]
  },
  {
   "cell_type": "markdown",
   "metadata": {},
   "source": [
    "```sql\n",
    "CREATE TABLE historique_commandes (\n",
    "    id SERIAL PRIMARY KEY,\n",
    "    commande_id INT,\n",
    "    utilisateur_id INT,\n",
    "    produit VARCHAR(255),\n",
    "    prix DECIMAL,\n",
    "    date_suppression TIMESTAMP DEFAULT now()\n",
    ");\n",
    "```"
   ]
  },
  {
   "cell_type": "markdown",
   "metadata": {},
   "source": [
    "- Création d’une fonction pour enregistrer les commandes supprimées"
   ]
  },
  {
   "cell_type": "markdown",
   "metadata": {},
   "source": [
    "```sql\n",
    "CREATE OR REPLACE FUNCTION archiver_commande() \n",
    "RETURNS TRIGGER AS $$\n",
    "BEGIN\n",
    "    INSERT INTO historique_commandes(commande_id, utilisateur_id, produit, prix)\n",
    "    VALUES (OLD.id, OLD.utilisateur_id, OLD.produit, OLD.prix);\n",
    "    RETURN OLD;\n",
    "END;\n",
    "$$ LANGUAGE plpgsql;\n",
    "```"
   ]
  },
  {
   "cell_type": "markdown",
   "metadata": {},
   "source": [
    "- Création du trigger qui déclenche la fonction après une suppression"
   ]
  },
  {
   "cell_type": "markdown",
   "metadata": {},
   "source": [
    "```sql\n",
    "CREATE TRIGGER trigger_archiver_commande\n",
    "AFTER DELETE ON commandes\n",
    "FOR EACH ROW\n",
    "EXECUTE FUNCTION archiver_commande();\n",
    "```"
   ]
  },
  {
   "cell_type": "markdown",
   "metadata": {},
   "source": [
    "- Testons le trigger :"
   ]
  },
  {
   "cell_type": "markdown",
   "metadata": {},
   "source": [
    "```sql\n",
    "DELETE FROM commandes WHERE id = 1;\n",
    "SELECT * FROM historique_commandes;\n",
    "```"
   ]
  },
  {
   "cell_type": "markdown",
   "metadata": {},
   "source": [
    "= La commande supprimée est bien enregistrée dans l’historique."
   ]
  },
  {
   "cell_type": "markdown",
   "metadata": {},
   "source": []
  }
 ],
 "metadata": {
  "language_info": {
   "name": "python"
  }
 },
 "nbformat": 4,
 "nbformat_minor": 2
}
