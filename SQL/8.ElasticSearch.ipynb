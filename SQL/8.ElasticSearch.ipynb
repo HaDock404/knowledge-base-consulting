{
 "cells": [
  {
   "cell_type": "markdown",
   "metadata": {},
   "source": [
    "### Intégration de PostgreSQL avec Elasticsearch\n",
    "\n",
    "Elasticsearch permet :  \n",
    "- ✅ Recherche full-text ultra-rapide\n",
    "- ✅ Recherche approximative, tolérance aux fautes de frappe\n",
    "- ✅ Agrégation et filtrage avancés"
   ]
  },
  {
   "cell_type": "markdown",
   "metadata": {},
   "source": [
    "### Synchronisation des données : 3 méthodes principales"
   ]
  },
  {
   "cell_type": "markdown",
   "metadata": {},
   "source": [
    "### Synchronisation des données : 3 méthodes principales\n",
    "\n",
    "|Méthode|Avantages|Inconvénients|\n",
    "|:---|:---|:---|\n",
    "|Logstash + JDBC|Facile à mettre en place|Pas en temps réel|\n",
    "|Debezium + Kafka|Temps réel via CDC (Change Data Capture)|Configuration complexe|\n",
    "|Python + elasticsearch-py|Flexible et personnalisable|Code supplémentaire à gérer|\n"
   ]
  },
  {
   "cell_type": "markdown",
   "metadata": {},
   "source": [
    "### Synchronisation avec un service Python (elasticsearch-py)"
   ]
  },
  {
   "cell_type": "markdown",
   "metadata": {},
   "source": [
    "- Installer les bibliothèques nécessaires\n",
    "\n",
    "```bash\n",
    "pip install psycopg2 elasticsearch\n",
    "```"
   ]
  },
  {
   "cell_type": "markdown",
   "metadata": {},
   "source": [
    "- Script Python pour insérer les données dans Elasticsearch"
   ]
  },
  {
   "cell_type": "markdown",
   "metadata": {},
   "source": [
    "```python\n",
    "import psycopg2\n",
    "from elasticsearch import Elasticsearch\n",
    "\n",
    "# Connexion à PostgreSQL\n",
    "conn = psycopg2.connect(\n",
    "    dbname=\"mabasedb\", user=\"monutilisateur\", password=\"monmotdepasse\", host=\"localhost\"\n",
    ")\n",
    "cur = conn.cursor()\n",
    "\n",
    "# Connexion à Elasticsearch\n",
    "es = Elasticsearch([\"http://localhost:9200\"])\n",
    "\n",
    "# Récupérer les données\n",
    "cur.execute(\"SELECT id, nom, description FROM produits\")\n",
    "for row in cur.fetchall():\n",
    "    doc = {\n",
    "        \"id\": row[0],\n",
    "        \"nom\": row[1],\n",
    "        \"description\": row[2],\n",
    "    }\n",
    "    es.index(index=\"produits\", id=row[0], body=doc)\n",
    "\n",
    "print(\"Données insérées dans Elasticsearch !\")\n",
    "\n",
    "# Fermer les connexions\n",
    "cur.close()\n",
    "conn.close()\n",
    "```"
   ]
  },
  {
   "cell_type": "markdown",
   "metadata": {},
   "source": [
    "### Utilisation hybride PostgreSQL + Elasticsearch\n",
    "\n",
    "Exemple :  \n",
    "- 1️⃣ PostgreSQL stocke les produits avec des relations\n",
    "- 2️⃣ Elasticsearch indexe uniquement les colonnes utiles pour la recherche\n",
    "- 3️⃣ L’application interroge Elasticsearch pour la recherche, puis récupère les détails dans PostgreSQL"
   ]
  },
  {
   "cell_type": "markdown",
   "metadata": {},
   "source": [
    "```python\n",
    "# Recherche full-text dans Elasticsearch\n",
    "search_query = \"smartphone\"\n",
    "response = es.search(index=\"produits\", body={\n",
    "    \"query\": {\n",
    "        \"match\": {\"description\": search_query}\n",
    "    }\n",
    "})\n",
    "\n",
    "# Récupération des IDs depuis Elasticsearch\n",
    "produit_ids = [hit[\"_id\"] for hit in response[\"hits\"][\"hits\"]]\n",
    "\n",
    "# Requête PostgreSQL pour récupérer les détails des produits\n",
    "cur.execute(\"SELECT * FROM produits WHERE id = ANY(%s)\", (produit_ids,))\n",
    "produits = cur.fetchall()\n",
    "```"
   ]
  }
 ],
 "metadata": {
  "language_info": {
   "name": "python"
  }
 },
 "nbformat": 4,
 "nbformat_minor": 2
}
