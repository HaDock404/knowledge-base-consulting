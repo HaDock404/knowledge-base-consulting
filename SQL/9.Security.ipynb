{
 "cells": [
  {
   "cell_type": "markdown",
   "metadata": {},
   "source": [
    "### Différence entre ROLE et USER\n",
    "\n",
    "📌 USER = ROLE avec LOGIN\n",
    "- Dans PostgreSQL, un utilisateur est en réalité un rôle avec la permission LOGIN."
   ]
  },
  {
   "cell_type": "markdown",
   "metadata": {},
   "source": [
    "```sql\n",
    "CREATE ROLE monrole; -- Juste un rôle\n",
    "CREATE USER monutilisateur WITH PASSWORD 'secret'; -- Rôle avec LOGIN\n",
    "```"
   ]
  },
  {
   "cell_type": "markdown",
   "metadata": {},
   "source": [
    "- ✅ Un rôle sans LOGIN ne peut pas se connecter.\n",
    "- ✅ Un utilisateur est juste un rôle avec l'option ```LOGIN```."
   ]
  },
  {
   "cell_type": "markdown",
   "metadata": {},
   "source": [
    "### Création et gestion des utilisateurs\n",
    "\n",
    "- Créer un utilisateur avec un mot de passe"
   ]
  },
  {
   "cell_type": "markdown",
   "metadata": {},
   "source": [
    "```sql\n",
    "CREATE USER alice WITH PASSWORD 'motdepasse';\n",
    "```"
   ]
  },
  {
   "cell_type": "markdown",
   "metadata": {},
   "source": [
    "- Attribuer un rôle à un utilisateur"
   ]
  },
  {
   "cell_type": "markdown",
   "metadata": {},
   "source": [
    "```sql\n",
    "GRANT monrole TO alice;\n",
    "```"
   ]
  },
  {
   "cell_type": "markdown",
   "metadata": {},
   "source": [
    "- 📌 Avec cette commande, ```alice``` n’a pas encore directement les permissions, elle doit exécuter :"
   ]
  },
  {
   "cell_type": "markdown",
   "metadata": {},
   "source": [
    "```sql\n",
    "SET ROLE monrole;\n",
    "```"
   ]
  },
  {
   "cell_type": "markdown",
   "metadata": {},
   "source": [
    "- ⚠️ Pour qu’elle ait les droits automatiquement, il faut mettre INHERIT :"
   ]
  },
  {
   "cell_type": "markdown",
   "metadata": {},
   "source": [
    "```sql\n",
    "ALTER ROLE monrole WITH INHERIT;\n",
    "```"
   ]
  },
  {
   "cell_type": "markdown",
   "metadata": {},
   "source": [
    "### Accorder l’accès à une base de données\n",
    "\n",
    "- Par défaut, un utilisateur n’a aucun droit sur une base, sauf s’il est superadmin."
   ]
  },
  {
   "cell_type": "markdown",
   "metadata": {},
   "source": [
    "```sql\n",
    "GRANT CONNECT ON DATABASE mabasedb TO alice;\n",
    "```"
   ]
  },
  {
   "cell_type": "markdown",
   "metadata": {},
   "source": [
    "- 🚨 ⚠️ CONNECT seul ne suffit pas !  \n",
    "Un utilisateur doit aussi avoir des droits sur le schéma et les tables."
   ]
  },
  {
   "cell_type": "markdown",
   "metadata": {},
   "source": [
    "### Accorder l’accès à un schéma"
   ]
  },
  {
   "cell_type": "markdown",
   "metadata": {},
   "source": [
    "```sql\n",
    "GRANT USAGE ON SCHEMA public TO alice;\n",
    "```"
   ]
  },
  {
   "cell_type": "markdown",
   "metadata": {},
   "source": [
    "- ✅ USAGE = Peut voir le schéma mais pas les tables."
   ]
  },
  {
   "cell_type": "markdown",
   "metadata": {},
   "source": [
    "### Donner accès à une table"
   ]
  },
  {
   "cell_type": "markdown",
   "metadata": {},
   "source": [
    "```sql\n",
    "GRANT SELECT, INSERT, UPDATE, DELETE ON TABLE produits TO alice;\n",
    "```"
   ]
  },
  {
   "cell_type": "markdown",
   "metadata": {},
   "source": [
    "- ✅ SELECT = Lire\n",
    "- ✅ INSERT = Ajouter\n",
    "- ✅ UPDATE = Modifier\n",
    "- ✅ DELETE = Supprimer"
   ]
  },
  {
   "cell_type": "markdown",
   "metadata": {},
   "source": [
    "### Donner accès uniquement à certaines colonnes"
   ]
  },
  {
   "cell_type": "markdown",
   "metadata": {},
   "source": [
    "```sql\n",
    "GRANT SELECT (nom, prix) ON produits TO alice;\n",
    "```"
   ]
  },
  {
   "cell_type": "markdown",
   "metadata": {},
   "source": [
    "### Empêcher la modification d’une table\n",
    "\n",
    "- On veut qu’un utilisateur puisse lire mais pas modifier :"
   ]
  },
  {
   "cell_type": "markdown",
   "metadata": {},
   "source": [
    "```sql\n",
    "GRANT SELECT ON produits TO bob;\n",
    "REVOKE INSERT, UPDATE, DELETE ON produits FROM bob;\n",
    "```"
   ]
  },
  {
   "cell_type": "markdown",
   "metadata": {},
   "source": [
    "### Donner un accès TEMPORAIRE"
   ]
  },
  {
   "cell_type": "markdown",
   "metadata": {},
   "source": [
    "```sql\n",
    "GRANT SELECT ON produits TO charlie WITH GRANT OPTION;\n",
    "```"
   ]
  },
  {
   "cell_type": "markdown",
   "metadata": {},
   "source": [
    "### Éviter les risques avec PUBLIC\n",
    "\n",
    "⚠️ Par défaut, tous les nouveaux utilisateurs ont accès au schéma public."
   ]
  },
  {
   "cell_type": "markdown",
   "metadata": {},
   "source": [
    "```sql\n",
    "REVOKE ALL ON SCHEMA public FROM PUBLIC;\n",
    "```"
   ]
  },
  {
   "cell_type": "markdown",
   "metadata": {},
   "source": [
    "- rôle en lecture seule pour plusieurs utilisateurs :\n",
    "\n",
    "```sql\n",
    "CREATE ROLE readonly;\n",
    "GRANT CONNECT ON DATABASE mabasedb TO readonly;\n",
    "GRANT USAGE ON SCHEMA public TO readonly;\n",
    "GRANT SELECT ON ALL TABLES IN SCHEMA public TO readonly;\n",
    "ALTER DEFAULT PRIVILEGES IN SCHEMA public GRANT SELECT ON TABLES TO readonly;\n",
    "```"
   ]
  },
  {
   "cell_type": "markdown",
   "metadata": {},
   "source": [
    "- Attibution du rôle à un l'utilisateur\n",
    "\n",
    "```sql\n",
    "GRANT readonly TO alice;\n",
    "```"
   ]
  },
  {
   "cell_type": "markdown",
   "metadata": {},
   "source": [
    "### Vérifier les permissions"
   ]
  },
  {
   "cell_type": "markdown",
   "metadata": {},
   "source": [
    "```sql\n",
    "SELECT * FROM information_schema.role_table_grants WHERE grantee = 'alice';\n",
    "```"
   ]
  }
 ],
 "metadata": {
  "language_info": {
   "name": "python"
  }
 },
 "nbformat": 4,
 "nbformat_minor": 2
}
