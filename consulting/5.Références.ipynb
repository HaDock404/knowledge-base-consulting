{
 "cells": [
  {
   "cell_type": "markdown",
   "metadata": {},
   "source": [
    "- RepublikHA : Média et communauté dédiés aux achats et à la gestion des fournisseurs.\n",
    "- CNA (Conseil National des Achats) : Association professionnelle regroupant les acteurs des achats en France.\n",
    "- BRAPI : Base de Référencement des Achats de Prestations Intellectuelles, facilitant l'accès à des prestataires qualifiés.\n",
    "- Syntec : Organisation professionnelle représentant les sociétés de conseil et ESN en France."
   ]
  },
  {
   "cell_type": "markdown",
   "metadata": {},
   "source": [
    "# RepublikHA\n",
    "\n",
    "Républik HA, également connue sous le nom de Républik Achats, est une plateforme dédiée aux professionnels de la fonction achats, offrant un écosystème complet d'événements, de médias et de services pour les directions achats et leurs partenaires. \n",
    "\n",
    "#### Objectifs de Républik HA :\n",
    "\n",
    "- Rassembler les acteurs clés des achats : Faciliter les échanges entre les directions achats et les prestataires innovants.\n",
    "- Animer un réseau dynamique : Proposer des événements et des contenus pertinents pour stimuler la réflexion et l'innovation dans le domaine des achats.\n",
    "- Favoriser le développement de relations durables : Créer des opportunités de collaboration entre acheteurs et fournisseurs.\n",
    "\n",
    "#### Principales composantes de Républik HA :\n",
    "\n",
    "1. Événements : Républik HA organise divers événements tout au long de l'année, notamment :  \n",
    "\n",
    "- Club Planète Sourcing : Un club dédié aux directeurs achats responsables de la performance.\n",
    "- Club Manager Achats : Un espace pour les managers achats innovants et disruptifs.\n",
    "- HA! Days : Des rendez-vous B2B ciblés, incluant des ateliers débats et du networking.\n",
    "- Trophées des Achats : Une cérémonie récompensant les meilleures initiatives dans le domaine des achats.\n",
    "- Gala des Achats : Un dîner élitiste réunissant les directeurs achats.\n",
    "\n",
    "2. Le Média HA : Un site d’information dédié aux professionnels des achats, couvrant l'actualité, les stratégies des grandes entreprises, les meilleures pratiques, les innovations digitales et RSE, ainsi que l’évolution des solutions et technologies dédiées aux achats. \n",
    "3. Studio : Un espace dédié à la production de contenus multimédias pour informer et former les professionnels des achats.\n",
    "\n",
    "#### Valeurs de Républik HA :\n",
    "\n",
    "- Créativité : Encourager l'innovation dans les pratiques achats.\n",
    "- Efficacité : Optimiser les processus et les relations entre acheteurs et fournisseurs.\n",
    "- Convivialité : Favoriser des interactions humaines enrichissantes et durables.\n",
    "\n",
    "En participant aux activités de Républik HA, les entreprises peuvent bénéficier d'un réseau solide, accéder à des ressources pertinentes et rester à la pointe des tendances et des meilleures pratiques dans le domaine des achats."
   ]
  },
  {
   "cell_type": "markdown",
   "metadata": {},
   "source": [
    "# Conseil National des Achats (CNA)\n",
    "\n",
    "Le Conseil National des Achats (CNA) est une association française de référence pour les professionnels des achats et des ressources externes, tant dans le secteur privé que public. Fondé en 1945, le CNA vise à promouvoir et à valoriser la fonction achats en France, en contribuant à l'amélioration de la performance des entreprises et des collectivités. \n",
    "\n",
    "#### Objectifs du CNA :\n",
    "\n",
    "- Promotion de la fonction achats : Le CNA s'engage à faire des achats une fonction stratégique au service des directions générales, en promouvant des pratiques responsables et en positionnant les directions achats comme partenaires clés des unités opérationnelles.\n",
    "\n",
    "- Accompagnement des professionnels : L'association assiste les acteurs économiques dans les enjeux liés à la fonction achats, en établissant et en faisant respecter une éthique professionnelle rigoureuse.\n",
    "\n",
    "- Animation d'un réseau dynamique : Avec un réseau de 20 000 professionnels des achats issus des secteurs privé et public, le CNA propose plus de 160 manifestations par an à travers la France, favorisant les échanges et le partage de bonnes pratiques. \n",
    "\n",
    "Principales activités du CNA :\n",
    "\n",
    "1. Événements et manifestations : Le CNA organise divers événements, tels que des conférences, des ateliers, des forums et des galas, pour permettre aux professionnels des achats de se rencontrer, d'échanger et de se former aux dernières tendances du secteur. \n",
    "\n",
    "2. Publications et études : L'association publie régulièrement des études, des baromètres et des livres blancs sur des thématiques clés, comme la transformation digitale des directions achats ou les achats responsables, offrant ainsi des ressources précieuses pour les professionnels du secteur.\n",
    "\n",
    "3. Formations et certifications : Le CNA propose des programmes de formation continue pour aider les acheteurs à développer leurs compétences et à rester à jour avec les évolutions du métier.\n",
    "\n",
    "4. Réseaux régionaux : Grâce à ses directions régionales, le CNA est présent sur l'ensemble du territoire français, adaptant ses actions aux spécificités locales et renforçant la proximité avec ses membres.\n",
    "\n",
    "#### Valeurs du CNA :\n",
    "\n",
    "- Éthique : Promouvoir une conduite professionnelle intègre et responsable dans toutes les activités liées aux achats.\n",
    "\n",
    "- Innovation : Encourager l'adoption de nouvelles approches et technologies pour améliorer la performance des achats.\n",
    "\n",
    "- Partage : Favoriser la diffusion des connaissances et des meilleures pratiques au sein de la communauté des acheteurs.\n",
    "\n",
    "En s'engageant avec le CNA, les entreprises et les professionnels des achats bénéficient d'un réseau solide, de ressources pertinentes et d'opportunités de développement continu, renforçant ainsi la fonction achats au sein de leurs organisations."
   ]
  },
  {
   "cell_type": "markdown",
   "metadata": {},
   "source": [
    "# BRAPI\n",
    "\n",
    "Le Benchmark des Responsables Achats de Prestations Intellectuelles (BRAPI) est une organisation française dédiée aux professionnels des achats de prestations intellectuelles. Fondée pour répondre au besoin d'échange et de benchmarking entre responsables achats, BRAPI offre une plateforme pour partager des pratiques opérationnelles et optimiser la gestion des prestations intellectuelles au sein des entreprises. \n",
    "\n",
    "#### Objectifs de BRAPI :\n",
    "\n",
    "- Échange d'expériences : Fournir un cadre où les responsables achats peuvent partager leurs expériences et discuter des défis spécifiques liés aux prestations intellectuelles.\n",
    "\n",
    "- Benchmarking : Permettre aux membres de comparer leurs pratiques et performances afin d'identifier des opportunités d'amélioration.\n",
    "\n",
    "- Formation continue : Proposer des formations spécialisées pour renforcer les compétences des acheteurs en matière de prestations intellectuelles.\n",
    "\n",
    "#### Principales activités de BRAPI :\n",
    "\n",
    "1. Les Matinales BRAPI : Des réunions régulières où les professionnels des achats se rencontrent pour discuter des tendances du marché, des défis actuels et des meilleures pratiques. Par exemple, une Matinale est prévue le 13 mars 2025, avec des interventions de la MACIF et de Siemens Smart Infrastructure. \n",
    "\n",
    "2. Benchmark & TJM : BRAPI réalise des études approfondies sur les taux journaliers moyens (TJM) des profils informatiques et digitaux, fournissant des données précieuses pour aider les entreprises à positionner leurs offres et à négocier efficacement. \n",
    "\n",
    "3. Formations Achats : L'organisation propose des formations sur des sujets tels que la réduction des risques liés aux achats de prestations intellectuelles, la négociation, la gestion de la relation fournisseurs, et l'intégration de la RSE dans les achats. Ces formations sont conçues pour être directement applicables et adaptées aux besoins des professionnels des achats. \n",
    "\n",
    "4. Conseil : BRAPI offre des services de conseil pour aider les entreprises à élaborer des stratégies de référencement, à structurer des panels de fournisseurs pour les familles IT et conseil en management, et à gérer les risques associés aux achats de prestations intellectuelles. \n",
    "\n",
    "#### Valeurs de BRAPI :\n",
    "\n",
    "- Collaboration : Encourager le partage d'informations et la coopération entre les professionnels des achats.\n",
    "\n",
    "- Innovation : Promouvoir l'adoption de nouvelles approches et outils pour améliorer l'efficacité des achats de prestations intellectuelles.\n",
    "\n",
    "- Excellence : S'efforcer d'atteindre les plus hauts standards dans les pratiques d'achat et de gestion des fournisseurs.\n",
    "\n",
    "En s'engageant avec BRAPI, les entreprises peuvent bénéficier d'un réseau solide de professionnels des achats, accéder à des données de benchmarking pertinentes, et améliorer leurs pratiques en matière de gestion des prestations intellectuelles."
   ]
  },
  {
   "cell_type": "markdown",
   "metadata": {},
   "source": []
  }
 ],
 "metadata": {
  "language_info": {
   "name": "python"
  }
 },
 "nbformat": 4,
 "nbformat_minor": 2
}
