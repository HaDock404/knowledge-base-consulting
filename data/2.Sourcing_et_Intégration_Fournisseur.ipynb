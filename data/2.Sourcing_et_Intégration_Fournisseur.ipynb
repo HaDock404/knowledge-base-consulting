{
 "cells": [
  {
   "cell_type": "markdown",
   "metadata": {},
   "source": [
    "- Sourcing : Processus d’identification et de sélection des fournisseurs adaptés aux besoins de l’entreprise (compétences, coûts, délais).\n",
    "- RFI (Request for Information) : Demande d’informations pour mieux comprendre les capacités et offres d’un fournisseur potentiel.\n",
    "- RFP (Request for Proposal) : Demande de proposition détaillée incluant la méthodologie, les prix, et la valeur ajoutée du fournisseur.\n",
    "- RFQ (Request for Quotation) : Demande de devis chiffré après une présélection de fournisseurs.\n",
    "- Appels d’Offres : Processus structuré permettant aux fournisseurs de soumettre leurs propositions en réponse à un besoin défini.\n",
    "- Contrat Cadre : Accord général précisant les conditions de collaboration sur le long terme.\n",
    "- Contrats d’Application : Contrats spécifiques découlant du contrat cadre pour une mission précise.\n",
    "Référencement : Sélection de fournisseurs autorisés à travailler avec l’entreprise selon des critères définis."
   ]
  },
  {
   "cell_type": "markdown",
   "metadata": {},
   "source": []
  }
 ],
 "metadata": {
  "language_info": {
   "name": "python"
  }
 },
 "nbformat": 4,
 "nbformat_minor": 2
}
