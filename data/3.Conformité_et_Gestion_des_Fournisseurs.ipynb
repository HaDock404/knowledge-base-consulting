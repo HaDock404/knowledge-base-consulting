{
 "cells": [
  {
   "cell_type": "markdown",
   "metadata": {},
   "source": [
    "- VMS (Vendor Management System) : Plateforme logicielle permettant de gérer les relations fournisseurs (suivi, contrats, facturation).\n",
    "- FMS (Freelance Management System) : Système dédié à la gestion des freelances (contrats, paiements, conformité).\n",
    "- TPRM (Third-Party Risk Management) / TPGRC (Third-Party Governance, Risk, and Compliance) : Approches pour évaluer et gérer les risques liés aux fournisseurs (sécurité, conformité légale, performances)."
   ]
  }
 ],
 "metadata": {
  "language_info": {
   "name": "python"
  }
 },
 "nbformat": 4,
 "nbformat_minor": 2
}
