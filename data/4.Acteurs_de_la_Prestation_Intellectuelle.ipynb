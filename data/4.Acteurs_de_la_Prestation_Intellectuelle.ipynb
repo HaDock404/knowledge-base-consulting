{
 "cells": [
  {
   "cell_type": "markdown",
   "metadata": {},
   "source": [
    "- Plateformes d’Intermédiation : Marketplaces spécialisées mettant en relation clients et prestataires indépendants (ex. : Malt, Comet, Freelance.com).\n",
    "- Sociétés de Conseil (ESN/SS2I) : Entreprises de services numériques proposant des consultants en régie ou en forfait pour des missions spécifiques.\n",
    "- Collectifs : Groupes de freelances se regroupant sous une même entité pour mutualiser leurs compétences et offres.\n",
    "- Coopératives : Structures où les indépendants sont salariés de la coopérative tout en conservant leur autonomie (ex. : CAE - Coopérative d’Activité et d’Emploi)."
   ]
  },
  {
   "cell_type": "markdown",
   "metadata": {},
   "source": []
  }
 ],
 "metadata": {
  "language_info": {
   "name": "python"
  }
 },
 "nbformat": 4,
 "nbformat_minor": 2
}
