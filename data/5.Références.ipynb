{
 "cells": [
  {
   "cell_type": "markdown",
   "metadata": {},
   "source": [
    "- RepublikHA : Média et communauté dédiés aux achats et à la gestion des fournisseurs.\n",
    "- CNA (Conseil National des Achats) : Association professionnelle regroupant les acteurs des achats en France.\n",
    "- BRAPI : Base de Référencement des Achats de Prestations Intellectuelles, facilitant l'accès à des prestataires qualifiés.\n",
    "- Syntec : Organisation professionnelle représentant les sociétés de conseil et ESN en France."
   ]
  },
  {
   "cell_type": "markdown",
   "metadata": {},
   "source": []
  }
 ],
 "metadata": {
  "language_info": {
   "name": "python"
  }
 },
 "nbformat": 4,
 "nbformat_minor": 2
}
