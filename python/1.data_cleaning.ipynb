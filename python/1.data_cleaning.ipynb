{
 "cells": [
  {
   "cell_type": "markdown",
   "metadata": {},
   "source": [
    "### Charger les données\n",
    "\n",
    "Avant de nettoyer les données, il faut les charger :"
   ]
  },
  {
   "cell_type": "code",
   "execution_count": null,
   "metadata": {},
   "outputs": [],
   "source": [
    "import pandas as pd\n",
    "\n",
    "# Charger un fichier CSV\n",
    "df = pd.read_csv(\"data.csv\")\n",
    "pd.set_option('display.max_columns', None) #permet d'afficher toutes les colonnes\n",
    "\n",
    "# Afficher les premières lignes\n",
    "print(df.head())"
   ]
  },
  {
   "cell_type": "markdown",
   "metadata": {},
   "source": [
    "On peut aussi charger d'autres formats comme Excel ```(pd.read_excel())```, JSON ```(pd.read_json())``` ou SQL ```(pd.read_sql())```."
   ]
  },
  {
   "cell_type": "markdown",
   "metadata": {},
   "source": [
    "### Comprendre les données\n",
    "Avant de nettoyer, il faut examiner l'état des données :"
   ]
  },
  {
   "cell_type": "code",
   "execution_count": null,
   "metadata": {},
   "outputs": [],
   "source": [
    "# Afficher des infos générales\n",
    "print(df.info())\n",
    "\n",
    "# Résumé statistique des colonnes numériques\n",
    "print(df.describe())\n",
    "\n",
    "# Voir les valeurs uniques d'une colonne\n",
    "print(df[\"colonne\"].unique())\n"
   ]
  },
  {
   "cell_type": "markdown",
   "metadata": {},
   "source": [
    "### Modifier les données\n",
    "\n",
    "On peut réaliser plusieurs modifications pour plus de lisibilité."
   ]
  },
  {
   "cell_type": "code",
   "execution_count": null,
   "metadata": {},
   "outputs": [],
   "source": [
    "df.rename(columns={\n",
    "            'price': 'prix(million)', \n",
    "            'area': 'air(m2)',\n",
    "            'bedrooms' : 'chambres',\n",
    "            'bathrooms' : 'sdb',\n",
    "            'stories' : 'étages',\n",
    "            'mainroad' : 'route principale',\n",
    "            'guestroom' : 'chambre ami',\n",
    "            'basement' : 'sous sol',\n",
    "            'hotwaterheating' : 'chauffage au gaz',\n",
    "            'airconditioning' : 'climatisation',\n",
    "            'parking' : 'parking',\n",
    "            'prefarea' : 'résidentiel',\n",
    "            'furnishingstatus' : 'meublé',\n",
    "            }, inplace=True)"
   ]
  },
  {
   "cell_type": "markdown",
   "metadata": {},
   "source": [
    "### Gérer les valeurs manquantes\n",
    "Les valeurs manquantes sont un problème courant. Voici comment les détecter et les traiter :  \n",
    "\n",
    "- Détection des valeurs manquantes :"
   ]
  },
  {
   "cell_type": "code",
   "execution_count": null,
   "metadata": {},
   "outputs": [],
   "source": [
    "print(df.isnull().sum())  # Compter le nombre de NaN par colonne"
   ]
  },
  {
   "cell_type": "markdown",
   "metadata": {},
   "source": [
    "- Supprimer les lignes ou colonnes avec des valeurs manquantes :"
   ]
  },
  {
   "cell_type": "code",
   "execution_count": null,
   "metadata": {},
   "outputs": [],
   "source": [
    "df = df.dropna()  # Supprime toutes les lignes avec au moins un NaN\n",
    "df = df.dropna(axis=1)  # Supprime les colonnes avec au moins un NaN"
   ]
  },
  {
   "cell_type": "markdown",
   "metadata": {},
   "source": [
    "- Remplacer les valeurs manquantes :"
   ]
  },
  {
   "cell_type": "code",
   "execution_count": null,
   "metadata": {},
   "outputs": [],
   "source": [
    "df[\"colonne\"] = df[\"colonne\"].fillna(\"valeur_par_défaut\")  # Remplir avec une valeur spécifique\n",
    "df[\"colonne\"] = df[\"colonne\"].fillna(df[\"colonne\"].mean())  # Remplir avec la moyenne"
   ]
  },
  {
   "cell_type": "markdown",
   "metadata": {},
   "source": [
    "### Gérer les doublons\n",
    "Les doublons peuvent fausser les analyses :"
   ]
  },
  {
   "cell_type": "code",
   "execution_count": null,
   "metadata": {},
   "outputs": [],
   "source": [
    "# Détection des doublons\n",
    "print(df.duplicated().sum())\n",
    "# ou aussi\n",
    "df.loc[df.duplicated()]\n",
    "\n",
    "# Suppression des doublons\n",
    "df = df.drop_duplicates()\n"
   ]
  },
  {
   "cell_type": "markdown",
   "metadata": {},
   "source": [
    "### Correction des types de données\n",
    "Parfois, les données sont mal typées :"
   ]
  },
  {
   "cell_type": "code",
   "execution_count": null,
   "metadata": {},
   "outputs": [],
   "source": [
    "# Convertir une colonne en numérique\n",
    "df[\"colonne\"] = pd.to_numeric(df[\"colonne\"], errors=\"coerce\")\n",
    "\n",
    "# Convertir une colonne en date\n",
    "df[\"date_colonne\"] = pd.to_datetime(df[\"date_colonne\"], errors=\"coerce\")\n"
   ]
  },
  {
   "cell_type": "markdown",
   "metadata": {},
   "source": []
  }
 ],
 "metadata": {
  "language_info": {
   "name": "python"
  }
 },
 "nbformat": 4,
 "nbformat_minor": 2
}
