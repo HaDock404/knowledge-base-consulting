{
 "cells": [
  {
   "cell_type": "markdown",
   "metadata": {},
   "source": [
    "### 1. Tokenization et Normalisation\n",
    "\n",
    "#### 🔹 Objectif :  \n",
    "Segmenter un texte en unités (mots, phrases) et le normaliser pour uniformiser l’analyse.\n",
    "\n",
    "#### 🔹 Techniques :\n",
    "- Tokenization : Découpage du texte en mots ou phrases.\n",
    "- Normalisation : Conversion en minuscules, suppression des caractères spéciaux, accents, ponctuation."
   ]
  },
  {
   "cell_type": "markdown",
   "metadata": {},
   "source": [
    "#### 🔹 Outils :\n",
    "\n",
    "- 📌 NLTK"
   ]
  },
  {
   "cell_type": "code",
   "execution_count": null,
   "metadata": {},
   "outputs": [],
   "source": [
    "from nltk.tokenize import word_tokenize\n",
    "import nltk\n",
    "nltk.download('punkt')\n",
    "\n",
    "texte = \"Bonjour ! Comment ça va ?\"\n",
    "tokens = word_tokenize(texte)\n",
    "print(tokens)  # ['Bonjour', '!', 'Comment', 'ça', 'va', '?']"
   ]
  },
  {
   "cell_type": "markdown",
   "metadata": {},
   "source": [
    "- 📌 spaCy"
   ]
  },
  {
   "cell_type": "code",
   "execution_count": null,
   "metadata": {},
   "outputs": [],
   "source": [
    "import spacy\n",
    "nlp = spacy.load(\"fr_core_news_sm\")\n",
    "\n",
    "texte = \"Bonjour ! Comment ça va ?\"\n",
    "tokens = [token.text for token in nlp(texte)]\n",
    "print(tokens)  # ['Bonjour', '!', 'Comment', 'ça', 'va', '?']"
   ]
  },
  {
   "cell_type": "markdown",
   "metadata": {},
   "source": [
    "- 📌 Regex pour normalisation"
   ]
  },
  {
   "cell_type": "code",
   "execution_count": null,
   "metadata": {},
   "outputs": [],
   "source": [
    "import re\n",
    "texte_normalise = re.sub(r\"[^\\w\\s]\", \"\", texte.lower())  # Suppression ponctuation et passage en minuscules\n",
    "print(texte_normalise)  # \"bonjour comment ça va\""
   ]
  },
  {
   "cell_type": "markdown",
   "metadata": {},
   "source": [
    "### 2. Stemming et Lemmatization\n",
    "#### 🔹 Objectif :\n",
    "Réduire les mots à leur racine (stemming) ou leur forme canonique (lemmatisation).\n",
    "\n",
    "#### 🔹 Différence :\n",
    "- Stemming : Coupe le mot (ex. \"mangeons\" → \"mange\") sans forcément respecter la grammaire.\n",
    "- Lemmatization : Trouve la forme correcte du mot (ex. \"mangeons\" → \"manger\").\n",
    "#### 🔹 Outils :\n",
    "- 📌 Stemming avec NLTK"
   ]
  },
  {
   "cell_type": "code",
   "execution_count": null,
   "metadata": {},
   "outputs": [],
   "source": [
    "from nltk.stem import SnowballStemmer\n",
    "stemmer = SnowballStemmer(\"french\")\n",
    "\n",
    "print(stemmer.stem(\"mangeons\"))  # \"mange\"\n",
    "print(stemmer.stem(\"étudiantes\"))  # \"étudi\""
   ]
  },
  {
   "cell_type": "markdown",
   "metadata": {},
   "source": [
    "- 📌 Lemmatization avec spaCy"
   ]
  },
  {
   "cell_type": "code",
   "execution_count": null,
   "metadata": {},
   "outputs": [],
   "source": [
    "doc = nlp(\"Les étudiants apprennent la programmation.\")\n",
    "lemmas = [token.lemma_ for token in doc]\n",
    "print(lemmas)  # ['le', 'étudiant', 'apprendre', 'le', 'programmation', '.']"
   ]
  },
  {
   "cell_type": "markdown",
   "metadata": {},
   "source": [
    "### 3. Suppression des Stopwords\n",
    "#### 🔹 Objectif :\n",
    "- Éliminer les mots qui n'apportent pas de valeur sémantique (\"le\", \"de\", \"et\", etc.).\n",
    "\n",
    "### 🔹 Outils :\n",
    "- 📌 Avec NLTK"
   ]
  },
  {
   "cell_type": "code",
   "execution_count": null,
   "metadata": {},
   "outputs": [],
   "source": [
    "from nltk.corpus import stopwords\n",
    "nltk.download('stopwords')\n",
    "\n",
    "stop_words = set(stopwords.words('french'))\n",
    "tokens_filtrés = [word for word in tokens if word.lower() not in stop_words]\n",
    "print(tokens_filtrés)  # Garde les mots importants"
   ]
  },
  {
   "cell_type": "markdown",
   "metadata": {},
   "source": [
    "- 📌 Avec spaCy"
   ]
  },
  {
   "cell_type": "code",
   "execution_count": null,
   "metadata": {},
   "outputs": [],
   "source": [
    "tokens_filtrés = [token.text for token in doc if not token.is_stop]\n",
    "print(tokens_filtrés)"
   ]
  },
  {
   "cell_type": "markdown",
   "metadata": {},
   "source": [
    "### 4. Détection et Correction des Fautes d’Orthographe\n",
    "#### 🔹 Objectif :\n",
    "- Corriger les erreurs typographiques pour améliorer la recherche.\n",
    "\n",
    "#### 🔹 Outils :\n",
    "- 📌 Avec fuzzywuzzy (Matching approximatif)"
   ]
  },
  {
   "cell_type": "code",
   "execution_count": null,
   "metadata": {},
   "outputs": [],
   "source": [
    "from fuzzywuzzy import process\n",
    "mots_connus = [\"bonjour\", \"comment\", \"ça\", \"va\", \"programmation\"]\n",
    "mot_corrigé = process.extractOne(\"prpgrammation\", mots_connus)\n",
    "print(mot_corrigé)  # ('programmation', 90)"
   ]
  },
  {
   "cell_type": "markdown",
   "metadata": {},
   "source": [
    "- 📌 Avec textdistance (Distances de Levenshtein, Jaccard, etc.)"
   ]
  },
  {
   "cell_type": "code",
   "execution_count": null,
   "metadata": {},
   "outputs": [],
   "source": [
    "import textdistance\n",
    "print(textdistance.levenshtein.normalized_similarity(\"programmation\", \"prpgrammation\"))  # 0.91"
   ]
  },
  {
   "cell_type": "markdown",
   "metadata": {},
   "source": [
    "### 5. Extraction d’Entités Nommées (NER)\n",
    "#### 🔹 Objectif :\n",
    "- Identifier les entités importantes (personnes, lieux, organisations).\n",
    "\n",
    "#### 🔹 Outils :\n",
    "- 📌 Avec spaCy"
   ]
  },
  {
   "cell_type": "code",
   "execution_count": null,
   "metadata": {},
   "outputs": [],
   "source": [
    "doc = nlp(\"Emmanuel Macron est le président de la France.\")\n",
    "for ent in doc.ents:\n",
    "    print(ent.text, ent.label_)\n",
    "# \"Emmanuel Macron\" -> PERSON\n",
    "# \"France\" -> GPE (lieu)"
   ]
  },
  {
   "cell_type": "markdown",
   "metadata": {},
   "source": [
    "### 📌 Techniques Avancées de Prétraitement NLP pour la Recherche\n",
    "- 1. Vectorisation avancée (TF-IDF, Word2Vec, FastText, BERT) pour améliorer la recherche sémantique.\n",
    "- 2. Expansion de requêtes : Trouver des synonymes pour enrichir les recherches.\n",
    "- 3. Correction orthographique automatique en se basant sur les mots les plus fréquents dans le corpus.\n",
    "- 4. Indexation efficace dans Elasticsearch avec des champs analysés et non analysés.\n",
    "- 5. NLP basé sur des modèles transformers (spaCy, Hugging Face) pour une recherche plus intelligente."
   ]
  }
 ],
 "metadata": {
  "language_info": {
   "name": "python"
  }
 },
 "nbformat": 4,
 "nbformat_minor": 2
}
