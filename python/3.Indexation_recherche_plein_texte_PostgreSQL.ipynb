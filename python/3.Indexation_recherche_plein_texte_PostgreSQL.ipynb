{
 "cells": [
  {
   "cell_type": "markdown",
   "metadata": {},
   "source": [
    "### 1. Recherche Full-Text avec tsvector et tsquery\n",
    "PostgreSQL propose une puissante recherche plein-texte via les types tsvector et tsquery.\n",
    "\n",
    "#### 📌 Comment ça marche ?\n",
    "- ```tsvector``` : Représente un document sous une forme optimisée pour la recherche.\n",
    "- ```tsquery``` : Représente une requête de recherche.\n",
    "#### 🔹 Exemple de base :"
   ]
  },
  {
   "cell_type": "code",
   "execution_count": null,
   "metadata": {
    "vscode": {
     "languageId": "sql"
    }
   },
   "outputs": [],
   "source": [
    "SELECT to_tsvector('french', 'Le chat noir dort sur le tapis')\n",
    "       @@ to_tsquery('french', 'chat & tapis');"
   ]
  },
  {
   "cell_type": "markdown",
   "metadata": {},
   "source": [
    "#### Explication :\n",
    "\n",
    "- ```to_tsvector('french', 'Le chat noir dort sur le tapis')``` transforme le texte en une liste de tokens indexés.\n",
    "- ```to_tsquery('french', 'chat & tapis')``` crée une requête qui cherche les mots \"chat\" et \"tapis\".\n",
    "- ```@@``` vérifie si la requête correspond au texte.  \n",
    "\n",
    "✅ Retourne ```true``` car les deux mots sont présents."
   ]
  },
  {
   "cell_type": "markdown",
   "metadata": {},
   "source": [
    "### 2️. Indexation et Optimisation avec GIN\n",
    "#### 📌 Pourquoi utiliser un index ?\n",
    "Sans index, chaque recherche nécessite un scan complet des lignes de la table. PostgreSQL propose GIN (Generalized Inverted Index) pour optimiser la recherche plein-texte.\n",
    "\n",
    "- 🔹 Création d’un index full-text sur une colonne :"
   ]
  },
  {
   "cell_type": "code",
   "execution_count": null,
   "metadata": {
    "vscode": {
     "languageId": "sql"
    }
   },
   "outputs": [],
   "source": [
    "CREATE INDEX idx_text_search ON articles USING GIN(to_tsvector('french', contenu));"
   ]
  },
  {
   "cell_type": "markdown",
   "metadata": {},
   "source": [
    "- 🔹 Requête optimisée avec index :"
   ]
  },
  {
   "cell_type": "code",
   "execution_count": null,
   "metadata": {
    "vscode": {
     "languageId": "sql"
    }
   },
   "outputs": [],
   "source": [
    "SELECT * FROM articles WHERE to_tsvector('french', contenu) @@ to_tsquery('french', 'chat & tapis');"
   ]
  },
  {
   "cell_type": "markdown",
   "metadata": {},
   "source": [
    "✅ Gain de performance significatif !"
   ]
  },
  {
   "cell_type": "markdown",
   "metadata": {},
   "source": [
    "### 3️. Dictionnaires Linguistiques\n",
    "PostgreSQL propose plusieurs dictionnaires intégrés :\n",
    "\n",
    "- simple : Sépare les mots mais ne fait pas de lemmatisation.\n",
    "- english, french : Suppression des stopwords, lemmatisation (\"mange\" et \"manger\" deviennent équivalents).  \n",
    "\n",
    "\n",
    "🔹 Test d’un dictionnaire :"
   ]
  },
  {
   "cell_type": "code",
   "execution_count": null,
   "metadata": {
    "vscode": {
     "languageId": "sql"
    }
   },
   "outputs": [],
   "source": [
    "SELECT to_tsvector('french', 'Les étudiants apprennent la programmation');"
   ]
  },
  {
   "cell_type": "code",
   "execution_count": null,
   "metadata": {
    "vscode": {
     "languageId": "bat"
    }
   },
   "outputs": [],
   "source": [
    "'étudiant':2 'apprendre':3 'programmation':4"
   ]
  },
  {
   "cell_type": "markdown",
   "metadata": {},
   "source": [
    "✅ Les mots sont lemmatisés et \"les\" est supprimé (stopword)."
   ]
  },
  {
   "cell_type": "markdown",
   "metadata": {},
   "source": [
    "### 4️. Recherche Approximative avec pg_trgm (Trigrammes)\n",
    "La recherche full-text ne gère pas les fautes de frappe, mais l’extension pg_trgm permet d'effectuer des recherches approximatives.\n",
    "\n",
    "- 📌 Installation de l’extension"
   ]
  },
  {
   "cell_type": "code",
   "execution_count": null,
   "metadata": {
    "vscode": {
     "languageId": "sql"
    }
   },
   "outputs": [],
   "source": [
    "CREATE EXTENSION pg_trgm;"
   ]
  },
  {
   "cell_type": "markdown",
   "metadata": {},
   "source": [
    "- 📌 Recherche approximative avec ```%```"
   ]
  },
  {
   "cell_type": "code",
   "execution_count": null,
   "metadata": {
    "vscode": {
     "languageId": "sql"
    }
   },
   "outputs": [],
   "source": [
    "SELECT * FROM articles WHERE titre % 'programmtion';"
   ]
  },
  {
   "cell_type": "markdown",
   "metadata": {},
   "source": [
    "✅ Trouve \"programmation\" même si \"programmtion\" contient une faute !"
   ]
  },
  {
   "cell_type": "markdown",
   "metadata": {},
   "source": [
    "- 📌 Amélioration avec un index GIN"
   ]
  },
  {
   "cell_type": "code",
   "execution_count": null,
   "metadata": {
    "vscode": {
     "languageId": "sql"
    }
   },
   "outputs": [],
   "source": [
    "CREATE INDEX idx_trigram ON articles USING GIN (titre gin_trgm_ops);"
   ]
  },
  {
   "cell_type": "markdown",
   "metadata": {},
   "source": [
    "✅ Accélère considérablement la recherche approximative."
   ]
  },
  {
   "cell_type": "markdown",
   "metadata": {},
   "source": [
    "### 5️. Requêtes Avancées pour un Moteur de Recherche Performant\n",
    "- 📌 Recherche mixte (full-text + trigrammes)"
   ]
  },
  {
   "cell_type": "code",
   "execution_count": null,
   "metadata": {
    "vscode": {
     "languageId": "sql"
    }
   },
   "outputs": [],
   "source": [
    "SELECT * FROM articles \n",
    "WHERE to_tsvector('french', contenu) @@ to_tsquery('french', 'chat') \n",
    "ORDER BY similarity(contenu, 'chat') DESC;"
   ]
  },
  {
   "cell_type": "markdown",
   "metadata": {},
   "source": [
    "✅ Trie les résultats selon leur similarité avec le mot recherché."
   ]
  },
  {
   "cell_type": "markdown",
   "metadata": {},
   "source": [
    "|Méthode|Avantages|Inconvénients|\n",
    "|:---|:---|:---|\n",
    "|```tsvector/tsquery```|Recherche rapide et précise|Ne gère pas les fautes|\n",
    "|```pg_trgm```|Tolérance aux fautes|Plus lent sans index|\n",
    "|```GIN```|Indexation efficace|Plus de stockage|"
   ]
  },
  {
   "cell_type": "markdown",
   "metadata": {},
   "source": []
  }
 ],
 "metadata": {
  "language_info": {
   "name": "python"
  }
 },
 "nbformat": 4,
 "nbformat_minor": 2
}
