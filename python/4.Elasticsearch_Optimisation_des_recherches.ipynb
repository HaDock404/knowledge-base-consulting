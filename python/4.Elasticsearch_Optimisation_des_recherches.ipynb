{
 "cells": [
  {
   "cell_type": "markdown",
   "metadata": {},
   "source": [
    "### 1. Analyseurs et Filtres\n",
    "\n",
    "Les analyseurs et filtres sont essentiels dans Elasticsearch pour transformer du texte brut en un format structuré pour l'indexation et la recherche.\n",
    "\n",
    "#### Analyseurs (analyzers)\n",
    "\n",
    "Un analyseur est une combinaison de trois composants :\n",
    "\n",
    "- Tokenizer : Découpe le texte en termes.\n",
    "- Filters : Modifient les termes extraits.\n",
    "- Character Filters : Modifient le texte avant le tokenization.\n",
    "\n",
    "\n",
    "Exemples :\n",
    "\n",
    "- ```standard```: Tokenizer par défaut qui divise les mots selon la casse et la ponctuation.\n",
    "- ```edge_ngram```: Utilisé pour l’autocomplétion, il génère des sous-chaînes d’un mot.\n",
    "- ```synonym```: Remplace les termes par des synonymes définis.\n",
    "- ```shingle```: Génère des combinaisons de mots consécutifs pour améliorer la recherche de phrases."
   ]
  },
  {
   "cell_type": "markdown",
   "metadata": {},
   "source": [
    "### 2. Scoring et Ranking des Documents\n",
    "Le score de pertinence détermine l’ordre des résultats de recherche.\n",
    "\n",
    "#### BM25 (Okapi BM25)\n",
    "- Algorithme par défaut de scoring dans Elasticsearch.\n",
    "- Fonctionne sur le principe de la fréquence des termes et de la longueur du document.\n",
    "- Avantage : pondère mieux les documents longs et les mots-clés fréquents.\n",
    "\n",
    "#### ```function_score```\n",
    "Permet de modifier le score de base avec des fonctions personnalisées (ex : popularité, date récente, etc.).\n",
    "- Exemple :"
   ]
  },
  {
   "cell_type": "markdown",
   "metadata": {},
   "source": [
    "```json\n",
    "{\n",
    "  \"query\": {\n",
    "    \"function_score\": {\n",
    "      \"query\": { \"match\": { \"title\": \"Elasticsearch\" } },\n",
    "      \"functions\": [\n",
    "        { \"field_value_factor\": { \"field\": \"popularity\", \"factor\": 1.2, \"modifier\": \"log1p\" } }\n",
    "      ]\n",
    "    }\n",
    "  }\n",
    "}\n",
    "```"
   ]
  },
  {
   "cell_type": "markdown",
   "metadata": {},
   "source": [
    "#### Boosting\n",
    "Permet d’augmenter ou de diminuer la pertinence d’un document.\n",
    "- Exemple :"
   ]
  },
  {
   "cell_type": "markdown",
   "metadata": {},
   "source": [
    "```json\n",
    "{\n",
    "  \"query\": {\n",
    "    \"boosting\": {\n",
    "      \"positive\": { \"match\": { \"title\": \"Elasticsearch\" } },\n",
    "      \"negative\": { \"match\": { \"title\": \"obsolete\" } },\n",
    "      \"negative_boost\": 0.5\n",
    "    }\n",
    "  }\n",
    "}\n",
    "```"
   ]
  },
  {
   "cell_type": "markdown",
   "metadata": {},
   "source": [
    "### 3. Requêtes Booléennes Avancées\n",
    "Les requêtes booléennes permettent de combiner plusieurs conditions de recherche.\n",
    "\n",
    "#### Match Phrase (```match_phrase```)\n",
    "Recherche une expression exacte en maintenant l'ordre des mots.\n",
    "- Exemple :"
   ]
  },
  {
   "cell_type": "markdown",
   "metadata": {},
   "source": [
    "```json\n",
    "{ \"query\": { \"match_phrase\": { \"description\": \"moteur de recherche\" } } }\n",
    "```"
   ]
  },
  {
   "cell_type": "markdown",
   "metadata": {},
   "source": [
    "#### Fuzzy Search (```fuzzy```)\n",
    "Recherche en tolérant des fautes de frappe.\n",
    "- Exemple :"
   ]
  },
  {
   "cell_type": "markdown",
   "metadata": {},
   "source": [
    "```json\n",
    "{ \"query\": { \"match\": { \"name\": { \"query\": \"Elastisearch\", \"fuzziness\": \"AUTO\" } } } }\n",
    "```"
   ]
  },
  {
   "cell_type": "markdown",
   "metadata": {},
   "source": [
    "### Multi Match (```multi_match```)\n",
    "Recherche sur plusieurs champs simultanément.\n",
    "- Exemple :"
   ]
  },
  {
   "cell_type": "markdown",
   "metadata": {},
   "source": [
    "```json\n",
    "{ \"query\": { \"multi_match\": { \"query\": \"search engine\", \"fields\": [\"title\", \"description\"] } } }\n",
    "```"
   ]
  },
  {
   "cell_type": "markdown",
   "metadata": {},
   "source": [
    "### 4. Suggestions et Autocomplétion\n",
    "Elasticsearch propose plusieurs méthodes pour la suggestion et l'autocomplétion.\n",
    "\n",
    "#### Completion Suggester\n",
    "Utilisé pour l'autocomplétion rapide.\n",
    "- Exemple :"
   ]
  },
  {
   "cell_type": "markdown",
   "metadata": {},
   "source": [
    "```json\n",
    "{ \"query\": { \"match\": { \"suggest\": \"Elast\" } } }\n",
    "```"
   ]
  },
  {
   "cell_type": "markdown",
   "metadata": {},
   "source": [
    "#### Phrase Suggester\n",
    "Propose des corrections orthographiques basées sur le contexte.\n",
    "- Exemple :"
   ]
  },
  {
   "cell_type": "markdown",
   "metadata": {},
   "source": [
    "```json\n",
    "{\n",
    "  \"suggest\": {\n",
    "    \"text\": \"Elastisearch\",\n",
    "    \"my_suggestion\": {\n",
    "      \"phrase\": {\n",
    "        \"field\": \"title\",\n",
    "        \"size\": 1\n",
    "      }\n",
    "    }\n",
    "  }\n",
    "}\n",
    "```"
   ]
  },
  {
   "cell_type": "markdown",
   "metadata": {},
   "source": [
    "### 5. Sharding et Réplication pour la Scalabilité\n",
    "Elasticsearch utilise sharding et réplication pour gérer de gros volumes de données.\n",
    "\n",
    "- Sharding : Découpe un index en plusieurs morceaux.\n",
    "Exemple : Un index de 1 milliard de documents peut être découpé en 5 shards.\n",
    "- Réplication : Copie des shards pour la redondance et la performance.\n",
    "Exemple : Un shard peut avoir 2 copies répliquées sur d'autres nœuds.\n",
    "#### Optimisation des Shards\n",
    "- Trop de shards = surcharge mémoire.\n",
    "- Trop peu de shards = sous-exploitation des ressources.\n"
   ]
  },
  {
   "cell_type": "markdown",
   "metadata": {},
   "source": [
    "### 6. Différence entre Match, Term et Bool Queries\n",
    "- Match Query : Recherche en utilisant un analyseur (utilisé pour le texte)."
   ]
  },
  {
   "cell_type": "markdown",
   "metadata": {},
   "source": [
    "```json\n",
    "{ \"query\": { \"match\": { \"title\": \"elasticsearch\" } } }\n",
    "```"
   ]
  },
  {
   "cell_type": "markdown",
   "metadata": {},
   "source": [
    "- Term Query : Recherche un mot exact sans analyse."
   ]
  },
  {
   "cell_type": "markdown",
   "metadata": {},
   "source": [
    "```json\n",
    "{ \"query\": { \"term\": { \"title\": \"Elasticsearch\" } } }\n",
    "```"
   ]
  },
  {
   "cell_type": "markdown",
   "metadata": {},
   "source": [
    "- Bool Query : Combine plusieurs conditions (must, should, must_not)."
   ]
  },
  {
   "cell_type": "markdown",
   "metadata": {},
   "source": [
    "```json\n",
    "{\n",
    "  \"query\": {\n",
    "    \"bool\": {\n",
    "      \"must\": [ { \"match\": { \"title\": \"Elasticsearch\" } } ],\n",
    "      \"must_not\": [ { \"match\": { \"category\": \"old\" } } ],\n",
    "      \"should\": [ { \"match\": { \"popularity\": \"high\" } } ]\n",
    "    }\n",
    "  }\n",
    "}\n",
    "```"
   ]
  },
  {
   "cell_type": "markdown",
   "metadata": {},
   "source": [
    "### 7. Création d’un Pipeline d’Ingestion pour Enrichir les Documents\n",
    "Les ingest pipelines permettent de transformer les documents avant indexation.\n",
    "\n",
    "#### Exemple de pipeline d’enrichissement\n",
    "Ajout d’un champ avec la longueur du texte :"
   ]
  },
  {
   "cell_type": "markdown",
   "metadata": {},
   "source": [
    "```json\n",
    "PUT _ingest/pipeline/text_length\n",
    "{\n",
    "  \"description\": \"Ajoute la longueur du texte\",\n",
    "  \"processors\": [\n",
    "    {\n",
    "      \"script\": {\n",
    "        \"source\": \"ctx.text_length = ctx.content.length()\"\n",
    "      }\n",
    "    }\n",
    "  ]\n",
    "}\n",
    "```"
   ]
  },
  {
   "cell_type": "markdown",
   "metadata": {},
   "source": [
    "Appliquer ce pipeline :"
   ]
  },
  {
   "cell_type": "markdown",
   "metadata": {},
   "source": [
    "```json\n",
    "PUT my_index/_doc/1?pipeline=text_length\n",
    "{\n",
    "  \"content\": \"Elasticsearch est un moteur de recherche puissant.\"\n",
    "}\n",
    "```"
   ]
  },
  {
   "cell_type": "markdown",
   "metadata": {},
   "source": [
    "### 8. Optimisation des Performances\n",
    "#### Caching\n",
    "- Elasticsearch met en cache les requêtes fréquentes pour améliorer la rapidité.\n",
    "- Activer le cache pour certaines queries :"
   ]
  },
  {
   "cell_type": "markdown",
   "metadata": {},
   "source": [
    "```json\n",
    "{\n",
    "  \"query\": {\n",
    "    \"match\": { \"title\": \"Elasticsearch\" }\n",
    "  },\n",
    "  \"_cache\": true\n",
    "}\n",
    "```"
   ]
  },
  {
   "cell_type": "markdown",
   "metadata": {},
   "source": [
    "#### Tuning des Index\n",
    "- Nombre de shards optimal : Un bon ratio est 1 shard par 50 Go de données.\n",
    "- Compression des index : Utiliser best_compression pour réduire l’espace disque.\n",
    "#### Optimisation des Requêtes\n",
    "- Privilégier filter (pas de scoring) sur query si le scoring n’est pas nécessaire.\n",
    "- Réduire la taille de from et size dans search pour éviter de récupérer trop de documents en une seule requête."
   ]
  }
 ],
 "metadata": {
  "language_info": {
   "name": "python"
  }
 },
 "nbformat": 4,
 "nbformat_minor": 2
}
