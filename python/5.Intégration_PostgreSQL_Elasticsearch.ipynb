{
 "cells": [
  {
   "cell_type": "markdown",
   "metadata": {},
   "source": [
    "### 🔹 Intégration PostgreSQL & Elasticsearch : Concepts Généraux\n",
    "#### 📌 Pourquoi intégrer PostgreSQL avec Elasticsearch ?\n",
    "PostgreSQL est une base relationnelle idéale pour stocker des données avec des relations complexes, tandis qu'Elasticsearch est un moteur de recherche performant conçu pour des requêtes rapides et full-text. L'intégration des deux permet :\n",
    "\n",
    "- Stocker les données structurées dans PostgreSQL.\n",
    "- Utiliser Elasticsearch pour les recherches avancées et le full-text search.\n",
    "- Garder les deux bases synchronisées, soit en batch (Logstash, Python), soit en temps réel (trigger PostgreSQL, Debezium)."
   ]
  },
  {
   "cell_type": "markdown",
   "metadata": {},
   "source": [
    "### 🛠️ 1. Synchronisation des données entre PostgreSQL et Elasticsearch\n",
    "Il existe plusieurs approches :\n",
    "\n",
    "- Logstash + JDBC (solution no-code/basique, pas toujours temps réel).\n",
    "- Service Python (elasticsearch-py) (plus flexible, mais demande du dev).\n",
    "- Trigger PostgreSQL + API Elasticsearch (temps réel, performant).\n",
    "- Debezium (Change Data Capture) (événements en temps réel)."
   ]
  },
  {
   "cell_type": "markdown",
   "metadata": {},
   "source": [
    "### 📌 Tutoriel 1 : Synchronisation simple avec Logstash (Batch Mode)\n",
    "##### 🔹 Prérequis :\n",
    "- PostgreSQL installé avec une base de test.\n",
    "- Elasticsearch installé et en fonctionnement.\n",
    "- Logstash installé.\n",
    "#### 🔹 Étapes :\n",
    "- 1. Créer une table de test dans PostgreSQL :"
   ]
  },
  {
   "cell_type": "code",
   "execution_count": null,
   "metadata": {
    "vscode": {
     "languageId": "sql"
    }
   },
   "outputs": [],
   "source": [
    "CREATE TABLE produits (\n",
    "    id SERIAL PRIMARY KEY,\n",
    "    nom VARCHAR(255),\n",
    "    description TEXT,\n",
    "    prix DECIMAL(10,2)\n",
    ");\n",
    "\n",
    "INSERT INTO produits (nom, description, prix) VALUES \n",
    "('Ordinateur', 'Un PC performant', 1200.99),\n",
    "('Clavier mécanique', 'Un clavier RGB pour gamers', 150.00);"
   ]
  },
  {
   "cell_type": "markdown",
   "metadata": {},
   "source": [
    "- 2. Créer un fichier de configuration Logstash :\n",
    "\n",
    "Crée un fichier postgresql_to_es.conf :"
   ]
  },
  {
   "cell_type": "markdown",
   "metadata": {},
   "source": [
    "```yaml\n",
    "input {\n",
    "  jdbc {\n",
    "    jdbc_connection_string => \"jdbc:postgresql://localhost:5432/ma_base\"\n",
    "    jdbc_user => \"mon_user\"\n",
    "    jdbc_password => \"mon_mdp\"\n",
    "    jdbc_driver_library => \"/path/to/postgresql.jar\"\n",
    "    jdbc_driver_class => \"org.postgresql.Driver\"\n",
    "    statement => \"SELECT * FROM produits\"\n",
    "  }\n",
    "}\n",
    "\n",
    "output {\n",
    "  elasticsearch {\n",
    "    hosts => [\"http://localhost:9200\"]\n",
    "    index => \"produits\"\n",
    "  }\n",
    "}\n",
    "```"
   ]
  },
  {
   "cell_type": "markdown",
   "metadata": {},
   "source": [
    "- 3. Exécuter Logstash :"
   ]
  },
  {
   "cell_type": "markdown",
   "metadata": {},
   "source": [
    "```sh\n",
    "logstash -f postgresql_to_es.conf\n",
    "```"
   ]
  },
  {
   "cell_type": "markdown",
   "metadata": {},
   "source": [
    "- Les données sont maintenant envoyées à Elasticsearch."
   ]
  },
  {
   "cell_type": "markdown",
   "metadata": {},
   "source": [
    "- 4. Vérifier dans Elasticsearch :"
   ]
  },
  {
   "cell_type": "markdown",
   "metadata": {},
   "source": [
    "```sh\n",
    "curl -X GET \"localhost:9200/produits/_search?pretty\"\n",
    "```"
   ]
  },
  {
   "cell_type": "markdown",
   "metadata": {},
   "source": [
    "### 📌 Tutoriel 2 : Mise à jour en temps réel avec un Trigger PostgreSQL\n",
    "\n",
    "Si tu veux que PostgreSQL envoie directement des données mises à jour vers Elasticsearch, utilise un trigger + une fonction PL/pgSQL.\n",
    "\n",
    "- 1.Créer une fonction PostgreSQL qui envoie des mises à jour à Elasticsearch :"
   ]
  },
  {
   "cell_type": "code",
   "execution_count": null,
   "metadata": {
    "vscode": {
     "languageId": "sql"
    }
   },
   "outputs": [],
   "source": [
    "CREATE OR REPLACE FUNCTION notify_elasticsearch()\n",
    "RETURNS TRIGGER AS $$\n",
    "BEGIN\n",
    "    PERFORM pg_notify('es_update', row_to_json(NEW)::text);\n",
    "    RETURN NEW;\n",
    "END;\n",
    "$$ LANGUAGE plpgsql;"
   ]
  },
  {
   "cell_type": "markdown",
   "metadata": {},
   "source": [
    "- 2. Créer un trigger sur la table :"
   ]
  },
  {
   "cell_type": "code",
   "execution_count": null,
   "metadata": {
    "vscode": {
     "languageId": "sql"
    }
   },
   "outputs": [],
   "source": [
    "CREATE TRIGGER produits_update_trigger\n",
    "AFTER INSERT OR UPDATE ON produits\n",
    "FOR EACH ROW\n",
    "EXECUTE FUNCTION notify_elasticsearch();"
   ]
  },
  {
   "cell_type": "markdown",
   "metadata": {},
   "source": [
    "- 3. Créer un script Python pour écouter ces événements et envoyer à Elasticsearch :"
   ]
  },
  {
   "cell_type": "code",
   "execution_count": null,
   "metadata": {
    "vscode": {
     "languageId": "sql"
    }
   },
   "outputs": [],
   "source": [
    "import psycopg2\n",
    "import psycopg2.extras\n",
    "import json\n",
    "from elasticsearch import Elasticsearch\n",
    "\n",
    "# Connexion à PostgreSQL\n",
    "conn = psycopg2.connect(\"dbname=ma_base user=mon_user password=mon_mdp host=localhost\")\n",
    "cur = conn.cursor()\n",
    "\n",
    "# Connexion à Elasticsearch\n",
    "es = Elasticsearch([\"http://localhost:9200\"])\n",
    "\n",
    "# Fonction pour écouter PostgreSQL\n",
    "def listen():\n",
    "    cur.execute(\"LISTEN es_update;\")\n",
    "    print(\"En attente d'événements PostgreSQL...\")\n",
    "\n",
    "    while True:\n",
    "        conn.poll()\n",
    "        while conn.notifies:\n",
    "            notify = conn.notifies.pop(0)\n",
    "            data = json.loads(notify.payload)\n",
    "            es.index(index=\"produits\", id=data[\"id\"], body=data)\n",
    "            print(f\"Données mises à jour dans Elasticsearch: {data}\")\n",
    "\n",
    "listen()"
   ]
  },
  {
   "cell_type": "markdown",
   "metadata": {},
   "source": [
    "- 4. Lancer le script en arrière-plan :"
   ]
  },
  {
   "cell_type": "markdown",
   "metadata": {},
   "source": [
    "```sh\n",
    "python sync_postgres_es.py\n",
    "```"
   ]
  },
  {
   "cell_type": "markdown",
   "metadata": {},
   "source": [
    "- 5. Tester:"
   ]
  },
  {
   "cell_type": "code",
   "execution_count": null,
   "metadata": {
    "vscode": {
     "languageId": "sql"
    }
   },
   "outputs": [],
   "source": [
    "INSERT INTO produits (nom, description, prix) VALUES ('Souris Gamer', 'Une souris ultra rapide', 89.99);"
   ]
  },
  {
   "cell_type": "markdown",
   "metadata": {},
   "source": [
    "- Cela enverra automatiquement la mise à jour à Elasticsearch !"
   ]
  },
  {
   "cell_type": "markdown",
   "metadata": {},
   "source": []
  }
 ],
 "metadata": {
  "language_info": {
   "name": "python"
  }
 },
 "nbformat": 4,
 "nbformat_minor": 2
}
